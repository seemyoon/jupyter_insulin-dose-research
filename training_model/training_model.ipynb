{
 "cells": [
  {
   "metadata": {},
   "cell_type": "markdown",
   "source": "## imports",
   "id": "1cb4687763652cf"
  },
  {
   "cell_type": "code",
   "execution_count": null,
   "id": "initial_id",
   "metadata": {
    "collapsed": true
   },
   "outputs": [],
   "source": "import torch.nn as nn"
  },
  {
   "metadata": {},
   "cell_type": "markdown",
   "source": "## hyperparameters",
   "id": "20f47138a431058f"
  },
  {
   "metadata": {},
   "cell_type": "code",
   "outputs": [],
   "execution_count": null,
   "source": [
    "DROPOUT = 0.2\n",
    "SEQ_FEATURES = 4\n",
    "STATIC_FEATURES = 26\n",
    "HIDDEN_SIZE = 64"
   ],
   "id": "60422ee6b039249e"
  },
  {
   "metadata": {},
   "cell_type": "markdown",
   "source": "## Initializing layers",
   "id": "57272ff7952a4300"
  },
  {
   "metadata": {},
   "cell_type": "code",
   "outputs": [],
   "execution_count": null,
   "source": [
    "lstm = nn.LSTM(input_size=SEQ_FEATURES, hidden_size=HIDDEN_SIZE, batch_first=True)\n",
    "\n",
    "static_fc = nn.Linear(STATIC_FEATURES, HIDDEN_SIZE)\n",
    "# nn.Linear(IN, OUT)\n",
    "# IN (input) - how many features do you supply\n",
    "# OUT (output) - how many features do you receive\n",
    "\n",
    "combined_fc = nn.Linear(HIDDEN_SIZE * 2, HIDDEN_SIZE)  # why 'HIDDEN_SIZE * 2'? Because nn.LSTM + nn.Linear\n",
    "dropout = nn.Dropout(p=DROPOUT)"
   ],
   "id": "929987d06d1620e6"
  },
  {
   "metadata": {},
   "cell_type": "markdown",
   "source": "## Initializing heads",
   "id": "ce43ff790047480f"
  },
  {
   "metadata": {},
   "cell_type": "code",
   "outputs": [],
   "execution_count": null,
   "source": [
    "therapy_head = nn.Linear(HIDDEN_SIZE, 3)\n",
    "\n",
    "insulin_dose_head = nn.Linear(HIDDEN_SIZE, 1)\n",
    "tablet_dose_head = nn.Linear(HIDDEN_SIZE, 1)\n",
    "\n",
    "insulin_type_head = nn.Linear(HIDDEN_SIZE, 1)\n",
    "tablet_type_head = nn.Linear(HIDDEN_SIZE, 1)"
   ],
   "id": "9c0c1a59f1c0540e"
  },
  {
   "metadata": {},
   "cell_type": "markdown",
   "source": "## forward pass",
   "id": "d6f983f82618784e"
  }
 ],
 "metadata": {
  "kernelspec": {
   "display_name": "Python 3",
   "language": "python",
   "name": "python3"
  },
  "language_info": {
   "codemirror_mode": {
    "name": "ipython",
    "version": 2
   },
   "file_extension": ".py",
   "mimetype": "text/x-python",
   "name": "python",
   "nbconvert_exporter": "python",
   "pygments_lexer": "ipython2",
   "version": "2.7.6"
  }
 },
 "nbformat": 4,
 "nbformat_minor": 5
}
