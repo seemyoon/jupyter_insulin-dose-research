{
 "cells": [
  {
   "metadata": {},
   "cell_type": "markdown",
   "source": "# Data preparation",
   "id": "68c8fae3b8ee014a"
  },
  {
   "metadata": {
    "ExecuteTime": {
     "end_time": "2025-03-23T17:45:11.144613Z",
     "start_time": "2025-03-23T17:45:11.139951Z"
    }
   },
   "cell_type": "code",
   "source": [
    "import os\n",
    "from pathlib import Path\n",
    "import pandas as pd\n",
    "import matplotlib.pyplot as plt\n",
    "from sklearn.metrics import mean_absolute_error, mean_squared_error, r2_score\n",
    "from sklearn.model_selection import train_test_split\n",
    "from sklearn.preprocessing import StandardScaler\n",
    "from sklearn.tree import DecisionTreeRegressor\n",
    "from sklearn.linear_model import LinearRegression\n",
    "# from sklearn.ensemble import RandomForestRegressor\n",
    "import seaborn as sns\n",
    "from sklearn.mixture import GaussianMixture\n",
    "import numpy as np"
   ],
   "id": "1e755d044b3e4971",
   "outputs": [],
   "execution_count": 261
  },
  {
   "metadata": {},
   "cell_type": "markdown",
   "source": "## Set path to folder with data",
   "id": "b4c32b910bffee35"
  },
  {
   "metadata": {
    "ExecuteTime": {
     "end_time": "2025-03-23T17:45:11.158910Z",
     "start_time": "2025-03-23T17:45:11.153910Z"
    }
   },
   "cell_type": "code",
   "source": "folder_path = Path('../data')",
   "id": "863ed22f3666bc29",
   "outputs": [],
   "execution_count": 262
  },
  {
   "metadata": {},
   "cell_type": "markdown",
   "source": "## Load patients info and check duplicates",
   "id": "dad394fd87a10a4a"
  },
  {
   "metadata": {
    "ExecuteTime": {
     "end_time": "2025-03-23T17:45:11.215315Z",
     "start_time": "2025-03-23T17:45:11.213104Z"
    }
   },
   "cell_type": "code",
   "source": [
    "# Check folder and file existence\n",
    "if not os.path.exists(folder_path):\n",
    "    raise FileNotFoundError(f\"Directory {folder_path} does not exist.\")"
   ],
   "id": "831bfe7932cc79b8",
   "outputs": [],
   "execution_count": 263
  },
  {
   "metadata": {},
   "cell_type": "markdown",
   "source": "## Load time series data and combine and preprocess data",
   "id": "f1b5ccc44de61b3f"
  },
  {
   "metadata": {
    "ExecuteTime": {
     "end_time": "2025-03-23T17:45:11.536039Z",
     "start_time": "2025-03-23T17:45:11.255360Z"
    }
   },
   "cell_type": "code",
   "source": [
    "all_files = [folder_path / f for f in os.listdir(folder_path) if f.endswith('.csv')]\n",
    "data_list = []\n",
    "for file in all_files:\n",
    "    temp_data = pd.read_csv(file, delimiter=';')\n",
    "    temp_data['person_id'] = file.stem\n",
    "    data_list.append(temp_data)\n",
    "\n",
    "df = pd.concat(data_list, ignore_index=True).drop_duplicates()"
   ],
   "id": "c3bc8b605317796c",
   "outputs": [],
   "execution_count": 264
  },
  {
   "metadata": {},
   "cell_type": "markdown",
   "source": "## Convert time and handle errors",
   "id": "a4e80c851d84189a"
  },
  {
   "metadata": {
    "ExecuteTime": {
     "end_time": "2025-03-23T17:45:11.655077Z",
     "start_time": "2025-03-23T17:45:11.563241Z"
    }
   },
   "cell_type": "code",
   "source": [
    "df['time'] = pd.to_datetime(df['time'], errors='coerce')\n",
    "df = df.dropna(subset=['time'])\n",
    "df['minute'] = df['time'].dt.minute\n",
    "df['hour_of_day'] = df['time'].dt.hour\n",
    "df['month'] = df['time'].dt.month\n",
    "df['day'] = df['time'].dt.day.clip(1, df['time'].dt.days_in_month)\n",
    "df.columns"
   ],
   "id": "4cc8ba3aac52dbed",
   "outputs": [
    {
     "data": {
      "text/plain": [
       "Index(['time', 'glucose', 'calories', 'heart_rate', 'steps', 'basal_rate',\n",
       "       'bolus_volume_delivered', 'carb_input', 'person_id', 'minute',\n",
       "       'hour_of_day', 'month', 'day'],\n",
       "      dtype='object')"
      ]
     },
     "execution_count": 265,
     "metadata": {},
     "output_type": "execute_result"
    }
   ],
   "execution_count": 265
  },
  {
   "metadata": {},
   "cell_type": "markdown",
   "source": "## Anomaly checks",
   "id": "8eaf13538fb9fea2"
  },
  {
   "metadata": {
    "ExecuteTime": {
     "end_time": "2025-03-23T17:45:11.733538Z",
     "start_time": "2025-03-23T17:45:11.706915Z"
    }
   },
   "cell_type": "code",
   "source": [
    "# Heart rate check\n",
    "df = df[(df['heart_rate'] > 40) & (df['heart_rate'] < 200)]\n",
    "# Glucose range check\n",
    "df = df[(df['glucose'] >= 0) & (df['glucose'] <= 500)]\n",
    "# Minute range check\n",
    "df = df[(df['minute'] >= 0) & (df['minute'] <= 59)]\n",
    "# Hour of day range check\n",
    "df = df[(df['hour_of_day'] >= 0) & (df['hour_of_day'] <= 23)]\n",
    "# Month range check\n",
    "df = df[(df['month'] >= 1) & (df['month'] <= 12)]\n",
    "# Age range check"
   ],
   "id": "6dee41bdf71b3d15",
   "outputs": [],
   "execution_count": 266
  },
  {
   "metadata": {},
   "cell_type": "markdown",
   "source": "## Check target variable",
   "id": "4ed78c5f1892abbc"
  },
  {
   "metadata": {
    "ExecuteTime": {
     "end_time": "2025-03-23T17:45:11.739459Z",
     "start_time": "2025-03-23T17:45:11.736961Z"
    }
   },
   "cell_type": "code",
   "source": [
    "if df['basal_rate'].isna().any():\n",
    "    raise ValueError(\"Target variable 'basal_rate' contains missing values!\")"
   ],
   "id": "b1db41207a016ed",
   "outputs": [],
   "execution_count": 267
  },
  {
   "metadata": {},
   "cell_type": "markdown",
   "source": "## Analyse of data",
   "id": "6245bd5507029585"
  },
  {
   "metadata": {
    "ExecuteTime": {
     "end_time": "2025-03-23T17:45:11.807156Z",
     "start_time": "2025-03-23T17:45:11.796046Z"
    }
   },
   "cell_type": "code",
   "source": "df.head(8)",
   "id": "5e0f7dfa7da1797",
   "outputs": [
    {
     "data": {
      "text/plain": [
       "                 time    glucose   calories  heart_rate  steps  basal_rate  \\\n",
       "0 2018-09-19 14:25:00  90.041667  14.551950   70.521127   77.0    0.066667   \n",
       "1 2018-09-19 14:30:00  85.750000  17.323750   78.504202   62.0    0.066667   \n",
       "2 2018-09-19 14:35:00  81.458333  12.888870   73.060345   16.0    0.066667   \n",
       "3 2018-09-19 14:40:00  77.166667  16.769390   67.981481   79.0    0.066667   \n",
       "4 2018-09-19 14:45:00  72.875000  42.131361   92.503356  444.0    0.066667   \n",
       "5 2018-09-19 14:50:00  68.583333  49.060859  109.291667  459.0    0.066667   \n",
       "6 2018-09-19 14:55:00  64.291667  44.071620  101.888889  435.0    0.066667   \n",
       "7 2018-09-19 15:00:00  60.000000  14.136180   95.834711    9.0    0.066667   \n",
       "\n",
       "   bolus_volume_delivered  carb_input  person_id  minute  hour_of_day  month  \\\n",
       "0                     0.0         0.0  HUPA0007P      25           14      9   \n",
       "1                     0.0         0.0  HUPA0007P      30           14      9   \n",
       "2                     0.0         0.0  HUPA0007P      35           14      9   \n",
       "3                     0.0         0.0  HUPA0007P      40           14      9   \n",
       "4                     0.0         0.0  HUPA0007P      45           14      9   \n",
       "5                     0.0         0.0  HUPA0007P      50           14      9   \n",
       "6                     0.0         0.0  HUPA0007P      55           14      9   \n",
       "7                     0.0         0.0  HUPA0007P       0           15      9   \n",
       "\n",
       "   day  \n",
       "0   19  \n",
       "1   19  \n",
       "2   19  \n",
       "3   19  \n",
       "4   19  \n",
       "5   19  \n",
       "6   19  \n",
       "7   19  "
      ],
      "text/html": [
       "<div>\n",
       "<style scoped>\n",
       "    .dataframe tbody tr th:only-of-type {\n",
       "        vertical-align: middle;\n",
       "    }\n",
       "\n",
       "    .dataframe tbody tr th {\n",
       "        vertical-align: top;\n",
       "    }\n",
       "\n",
       "    .dataframe thead th {\n",
       "        text-align: right;\n",
       "    }\n",
       "</style>\n",
       "<table border=\"1\" class=\"dataframe\">\n",
       "  <thead>\n",
       "    <tr style=\"text-align: right;\">\n",
       "      <th></th>\n",
       "      <th>time</th>\n",
       "      <th>glucose</th>\n",
       "      <th>calories</th>\n",
       "      <th>heart_rate</th>\n",
       "      <th>steps</th>\n",
       "      <th>basal_rate</th>\n",
       "      <th>bolus_volume_delivered</th>\n",
       "      <th>carb_input</th>\n",
       "      <th>person_id</th>\n",
       "      <th>minute</th>\n",
       "      <th>hour_of_day</th>\n",
       "      <th>month</th>\n",
       "      <th>day</th>\n",
       "    </tr>\n",
       "  </thead>\n",
       "  <tbody>\n",
       "    <tr>\n",
       "      <th>0</th>\n",
       "      <td>2018-09-19 14:25:00</td>\n",
       "      <td>90.041667</td>\n",
       "      <td>14.551950</td>\n",
       "      <td>70.521127</td>\n",
       "      <td>77.0</td>\n",
       "      <td>0.066667</td>\n",
       "      <td>0.0</td>\n",
       "      <td>0.0</td>\n",
       "      <td>HUPA0007P</td>\n",
       "      <td>25</td>\n",
       "      <td>14</td>\n",
       "      <td>9</td>\n",
       "      <td>19</td>\n",
       "    </tr>\n",
       "    <tr>\n",
       "      <th>1</th>\n",
       "      <td>2018-09-19 14:30:00</td>\n",
       "      <td>85.750000</td>\n",
       "      <td>17.323750</td>\n",
       "      <td>78.504202</td>\n",
       "      <td>62.0</td>\n",
       "      <td>0.066667</td>\n",
       "      <td>0.0</td>\n",
       "      <td>0.0</td>\n",
       "      <td>HUPA0007P</td>\n",
       "      <td>30</td>\n",
       "      <td>14</td>\n",
       "      <td>9</td>\n",
       "      <td>19</td>\n",
       "    </tr>\n",
       "    <tr>\n",
       "      <th>2</th>\n",
       "      <td>2018-09-19 14:35:00</td>\n",
       "      <td>81.458333</td>\n",
       "      <td>12.888870</td>\n",
       "      <td>73.060345</td>\n",
       "      <td>16.0</td>\n",
       "      <td>0.066667</td>\n",
       "      <td>0.0</td>\n",
       "      <td>0.0</td>\n",
       "      <td>HUPA0007P</td>\n",
       "      <td>35</td>\n",
       "      <td>14</td>\n",
       "      <td>9</td>\n",
       "      <td>19</td>\n",
       "    </tr>\n",
       "    <tr>\n",
       "      <th>3</th>\n",
       "      <td>2018-09-19 14:40:00</td>\n",
       "      <td>77.166667</td>\n",
       "      <td>16.769390</td>\n",
       "      <td>67.981481</td>\n",
       "      <td>79.0</td>\n",
       "      <td>0.066667</td>\n",
       "      <td>0.0</td>\n",
       "      <td>0.0</td>\n",
       "      <td>HUPA0007P</td>\n",
       "      <td>40</td>\n",
       "      <td>14</td>\n",
       "      <td>9</td>\n",
       "      <td>19</td>\n",
       "    </tr>\n",
       "    <tr>\n",
       "      <th>4</th>\n",
       "      <td>2018-09-19 14:45:00</td>\n",
       "      <td>72.875000</td>\n",
       "      <td>42.131361</td>\n",
       "      <td>92.503356</td>\n",
       "      <td>444.0</td>\n",
       "      <td>0.066667</td>\n",
       "      <td>0.0</td>\n",
       "      <td>0.0</td>\n",
       "      <td>HUPA0007P</td>\n",
       "      <td>45</td>\n",
       "      <td>14</td>\n",
       "      <td>9</td>\n",
       "      <td>19</td>\n",
       "    </tr>\n",
       "    <tr>\n",
       "      <th>5</th>\n",
       "      <td>2018-09-19 14:50:00</td>\n",
       "      <td>68.583333</td>\n",
       "      <td>49.060859</td>\n",
       "      <td>109.291667</td>\n",
       "      <td>459.0</td>\n",
       "      <td>0.066667</td>\n",
       "      <td>0.0</td>\n",
       "      <td>0.0</td>\n",
       "      <td>HUPA0007P</td>\n",
       "      <td>50</td>\n",
       "      <td>14</td>\n",
       "      <td>9</td>\n",
       "      <td>19</td>\n",
       "    </tr>\n",
       "    <tr>\n",
       "      <th>6</th>\n",
       "      <td>2018-09-19 14:55:00</td>\n",
       "      <td>64.291667</td>\n",
       "      <td>44.071620</td>\n",
       "      <td>101.888889</td>\n",
       "      <td>435.0</td>\n",
       "      <td>0.066667</td>\n",
       "      <td>0.0</td>\n",
       "      <td>0.0</td>\n",
       "      <td>HUPA0007P</td>\n",
       "      <td>55</td>\n",
       "      <td>14</td>\n",
       "      <td>9</td>\n",
       "      <td>19</td>\n",
       "    </tr>\n",
       "    <tr>\n",
       "      <th>7</th>\n",
       "      <td>2018-09-19 15:00:00</td>\n",
       "      <td>60.000000</td>\n",
       "      <td>14.136180</td>\n",
       "      <td>95.834711</td>\n",
       "      <td>9.0</td>\n",
       "      <td>0.066667</td>\n",
       "      <td>0.0</td>\n",
       "      <td>0.0</td>\n",
       "      <td>HUPA0007P</td>\n",
       "      <td>0</td>\n",
       "      <td>15</td>\n",
       "      <td>9</td>\n",
       "      <td>19</td>\n",
       "    </tr>\n",
       "  </tbody>\n",
       "</table>\n",
       "</div>"
      ]
     },
     "execution_count": 268,
     "metadata": {},
     "output_type": "execute_result"
    }
   ],
   "execution_count": 268
  },
  {
   "metadata": {
    "ExecuteTime": {
     "end_time": "2025-03-23T17:45:12.115851Z",
     "start_time": "2025-03-23T17:45:11.872037Z"
    }
   },
   "cell_type": "code",
   "source": [
    "plt.figure(figsize=(16, 8))\n",
    "sns.heatmap(df.drop(columns=['bolus_volume_delivered', 'person_id']).corr(), annot=True, fmt='.2f')"
   ],
   "id": "30b6a3a5a29bacb6",
   "outputs": [
    {
     "data": {
      "text/plain": [
       "<Axes: >"
      ]
     },
     "execution_count": 269,
     "metadata": {},
     "output_type": "execute_result"
    },
    {
     "data": {
      "text/plain": [
       "<Figure size 1600x800 with 2 Axes>"
      ],
      "image/png": "[encoded data removed]"
     },
     "metadata": {},
     "output_type": "display_data"
    }
   ],
   "execution_count": 269
  },
  {
   "metadata": {},
   "cell_type": "markdown",
   "source": "## Define features",
   "id": "169e6d163e3bec7d"
  },
  {
   "metadata": {
    "ExecuteTime": {
     "end_time": "2025-03-23T17:45:12.135108Z",
     "start_time": "2025-03-23T17:45:12.133079Z"
    }
   },
   "cell_type": "code",
   "source": [
    "features = [\n",
    "    'glucose', 'calories', 'heart_rate', 'steps',\n",
    "    'bolus_volume_delivered', 'carb_input', 'minute',\n",
    "    'hour_of_day', 'month', 'day',\n",
    "]\n",
    "print(features)"
   ],
   "id": "4a1b72a4ce9c3b0e",
   "outputs": [
    {
     "name": "stdout",
     "output_type": "stream",
     "text": [
      "['glucose', 'calories', 'heart_rate', 'steps', 'bolus_volume_delivered', 'carb_input', 'minute', 'hour_of_day', 'month', 'day']\n"
     ]
    }
   ],
   "execution_count": 270
  },
  {
   "metadata": {
    "ExecuteTime": {
     "end_time": "2025-03-23T17:45:12.191070Z",
     "start_time": "2025-03-23T17:45:12.182684Z"
    }
   },
   "cell_type": "code",
   "source": [
    "X = df[features]\n",
    "y = df['basal_rate']"
   ],
   "id": "d47e272a5570b823",
   "outputs": [],
   "execution_count": 271
  },
  {
   "metadata": {},
   "cell_type": "markdown",
   "source": "## Now calculating summary statistics for each of the columns",
   "id": "724580b7f674ee97"
  },
  {
   "metadata": {
    "ExecuteTime": {
     "end_time": "2025-03-23T17:45:12.296698Z",
     "start_time": "2025-03-23T17:45:12.248303Z"
    }
   },
   "cell_type": "code",
   "source": "summary = df[features].describe().transpose()",
   "id": "5eff4c0e390d9ebb",
   "outputs": [],
   "execution_count": 272
  },
  {
   "metadata": {},
   "cell_type": "markdown",
   "source": "# Predict dose",
   "id": "a2c5861721c8fa06"
  },
  {
   "metadata": {
    "ExecuteTime": {
     "end_time": "2025-03-23T17:45:12.338003Z",
     "start_time": "2025-03-23T17:45:12.320099Z"
    }
   },
   "cell_type": "code",
   "source": "X_train, X_test, y_train, y_test = train_test_split(X, y, test_size=0.2, random_state=42)",
   "id": "86ccdca1d0a65b77",
   "outputs": [],
   "execution_count": 273
  },
  {
   "metadata": {},
   "cell_type": "markdown",
   "source": "## Data scaling",
   "id": "bbd6320c13da074c"
  },
  {
   "metadata": {
    "ExecuteTime": {
     "end_time": "2025-03-23T17:45:12.388630Z",
     "start_time": "2025-03-23T17:45:12.362499Z"
    }
   },
   "cell_type": "code",
   "source": [
    "scaler = StandardScaler()\n",
    "X_train_scaled = scaler.fit_transform(X_train)\n",
    "X_test_scaled = scaler.transform(X_test)"
   ],
   "id": "d894d896f3dc4e74",
   "outputs": [],
   "execution_count": 274
  },
  {
   "metadata": {},
   "cell_type": "markdown",
   "source": "## Augmentation data",
   "id": "4e52ba2de695afec"
  },
  {
   "metadata": {
    "ExecuteTime": {
     "end_time": "2025-03-23T17:45:16.084270Z",
     "start_time": "2025-03-23T17:45:12.413060Z"
    }
   },
   "cell_type": "code",
   "source": [
    "# Train GMM for data augmentation\n",
    "n_components = 3  # Number of clusters (can experiment)\n",
    "gmm = GaussianMixture(n_components=n_components, random_state=42)\n",
    "gmm.fit(X_train_scaled)  # Train GMM on training data\n",
    "\n",
    "# Generate new data from trained model\n",
    "n_samples = 100  # Number of new samples we want to generate\n",
    "new_data = gmm.sample(n_samples=n_samples)[0]  # Generate new data. We take only the data array\n",
    "new_data_df = pd.DataFrame(new_data, columns=X_train.columns)  # Convert to DataFrame\n",
    "\n",
    "# Generating Labels for New Data Using Regression\n",
    "label_model = LinearRegression()\n",
    "label_model.fit(X_train_scaled, y_train)  # Обучаем на существующих данных\n",
    "new_labels = label_model.predict(new_data)\n",
    "\n",
    "# # Merge new data with original\n",
    "X_train_augmented = np.vstack([X_train_scaled, new_data])\n",
    "y_train_augmented = np.hstack([y_train, new_labels])\n",
    "\n",
    "model = DecisionTreeRegressor(max_depth=22, min_samples_leaf=2, min_samples_split=2, random_state=42)\n",
    "model.fit(X_train_augmented, y_train_augmented)\n",
    "# Prediction and model evaluation\n",
    "y_pred = model.predict(X_test_scaled)\n",
    "\n",
    "mse = mean_squared_error(y_test, y_pred)\n",
    "r2 = r2_score(y_test, y_pred)\n",
    "mae = mean_absolute_error(y_test, y_pred)\n",
    "\n",
    "mse_rounded = round(mse, 6)\n",
    "r2_rounded = round(r2, 6)\n",
    "mae_rounded = round(mae, 6)\n",
    "\n",
    "# Output results\n",
    "print(f'Decision Tree. Mean Squared Error: {mse_rounded}')\n",
    "print(f'Decision Tree. R²: {r2_rounded}')\n",
    "print(f'Decision Tree. Mean Absolute Error: {mae_rounded}')"
   ],
   "id": "2364ca910340f2d1",
   "outputs": [
    {
     "name": "stdout",
     "output_type": "stream",
     "text": [
      "Decision Tree. Mean Squared Error: 0.00032\n",
      "Decision Tree. R²: 0.75397\n",
      "Decision Tree. Mean Absolute Error: 0.006569\n"
     ]
    }
   ],
   "execution_count": 275
  },
  {
   "metadata": {},
   "cell_type": "markdown",
   "source": "### DT model creation, training and evaluation (with augmentation)",
   "id": "cb945b22fd5595bb"
  },
  {
   "metadata": {
    "ExecuteTime": {
     "end_time": "2025-03-23T17:45:17.258345Z",
     "start_time": "2025-03-23T17:45:16.119402Z"
    }
   },
   "cell_type": "code",
   "source": [
    "model = DecisionTreeRegressor(max_depth=22, min_samples_leaf=2, min_samples_split=2, random_state=42)\n",
    "model.fit(X_train_augmented, y_train_augmented)\n",
    "# Prediction and model evaluation\n",
    "y_pred = model.predict(X_test_scaled)\n",
    "\n",
    "mse = mean_squared_error(y_test, y_pred)\n",
    "r2 = r2_score(y_test, y_pred)\n",
    "mae = mean_absolute_error(y_test, y_pred)\n",
    "\n",
    "mse_rounded = round(mse, 6)\n",
    "r2_rounded = round(r2, 6)\n",
    "mae_rounded = round(mae, 6)\n",
    "\n",
    "# Output results\n",
    "print(f'Decision Tree. Mean Squared Error: {mse_rounded}')\n",
    "print(f'Decision Tree. R²: {r2_rounded}')\n",
    "print(f'Decision Tree. Mean Absolute Error: {mae_rounded}')"
   ],
   "id": "dfba1d497142ada2",
   "outputs": [
    {
     "name": "stdout",
     "output_type": "stream",
     "text": [
      "Decision Tree. Mean Squared Error: 0.00032\n",
      "Decision Tree. R²: 0.75397\n",
      "Decision Tree. Mean Absolute Error: 0.006569\n"
     ]
    }
   ],
   "execution_count": 276
  },
  {
   "metadata": {},
   "cell_type": "markdown",
   "source": "### DT model creation, training and evaluation (without augmentation)",
   "id": "69b5af38c25d922e"
  },
  {
   "metadata": {
    "ExecuteTime": {
     "end_time": "2025-03-23T17:45:18.390710Z",
     "start_time": "2025-03-23T17:45:17.283344Z"
    }
   },
   "cell_type": "code",
   "source": [
    "model = DecisionTreeRegressor(max_depth=22, min_samples_leaf=2, min_samples_split=2, random_state=42)\n",
    "model.fit(X_train_scaled, y_train)\n",
    "# Prediction and model evaluation\n",
    "y_pred = model.predict(X_test_scaled)\n",
    "\n",
    "mse = mean_squared_error(y_test, y_pred)\n",
    "r2 = r2_score(y_test, y_pred)\n",
    "mae = mean_absolute_error(y_test, y_pred)\n",
    "\n",
    "mse_rounded = round(mse, 6)\n",
    "r2_rounded = round(r2, 6)\n",
    "mae_rounded = round(mae, 6)\n",
    "\n",
    "# Output results\n",
    "print(f'Decision Tree. Mean Squared Error: {mse_rounded}')\n",
    "print(f'Decision Tree. R²: {r2_rounded}')\n",
    "print(f'Decision Tree. Mean Absolute Error: {mae_rounded}')"
   ],
   "id": "760bdfd4308084f2",
   "outputs": [
    {
     "name": "stdout",
     "output_type": "stream",
     "text": [
      "Decision Tree. Mean Squared Error: 0.000319\n",
      "Decision Tree. R²: 0.754757\n",
      "Decision Tree. Mean Absolute Error: 0.00652\n"
     ]
    }
   ],
   "execution_count": 277
  },
  {
   "metadata": {},
   "cell_type": "markdown",
   "source": "### RF model creation and training",
   "id": "f7146f810a7d16bf"
  },
  {
   "metadata": {
    "ExecuteTime": {
     "end_time": "2025-03-23T17:45:18.417386Z",
     "start_time": "2025-03-23T17:45:18.415475Z"
    }
   },
   "cell_type": "code",
   "source": [
    "# model = RandomForestRegressor(n_estimators=200, min_samples_split=2, min_samples_leaf=1, random_state=42)\n",
    "# model.fit(X_train_scaled, y_train)\n",
    "#\n",
    "# # Prediction and model evaluation\n",
    "# y_pred = model.predict(X_test_scaled)\n",
    "#\n",
    "# mse = mean_squared_error(y_test, y_pred)\n",
    "# r2 = r2_score(y_test, y_pred)\n",
    "# mae = mean_absolute_error(y_test, y_pred)\n",
    "#\n",
    "# mse_rounded = round(mse, 6)\n",
    "# r2_rounded = round(r2, 6)\n",
    "# mae_rounded = round(mae, 6)\n",
    "#\n",
    "# # Output results\n",
    "# print(f'Random Forest. Mean Squared Error: {mse_rounded}')\n",
    "# print(f'Random Forest. R²: {r2_rounded}')\n",
    "# print(f'Random Forest. Mean Absolute Error: {mae_rounded}')"
   ],
   "id": "ae33a88e9a6db87d",
   "outputs": [],
   "execution_count": 278
  }
 ],
 "metadata": {
  "kernelspec": {
   "display_name": "Python 3",
   "language": "python",
   "name": "python3"
  },
  "language_info": {
   "codemirror_mode": {
    "name": "ipython",
    "version": 2
   },
   "file_extension": ".py",
   "mimetype": "text/x-python",
   "name": "python",
   "nbconvert_exporter": "python",
   "pygments_lexer": "ipython2",
   "version": "2.7.6"
  }
 },
 "nbformat": 4,
 "nbformat_minor": 5
}
