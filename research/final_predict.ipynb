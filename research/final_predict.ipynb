{
 "cells": [
  {
   "metadata": {
    "ExecuteTime": {
     "end_time": "2025-06-12T20:26:38.652532Z",
     "start_time": "2025-06-12T20:26:38.168221Z"
    }
   },
   "cell_type": "code",
   "source": "from df_full_data import DfFullData",
   "id": "1ed815b65aa2f830",
   "outputs": [],
   "execution_count": 1
  },
  {
   "metadata": {},
   "cell_type": "markdown",
   "source": "# Input the data",
   "id": "b226b1c96af8d861"
  },
  {
   "metadata": {
    "ExecuteTime": {
     "end_time": "2025-06-12T20:26:38.705014Z",
     "start_time": "2025-06-12T20:26:38.702988Z"
    }
   },
   "cell_type": "code",
   "source": [
    "full_data = DfFullData('../data/Shanghai_diabetes_datasets/Shanghai_CSV-Data')\n",
    "# data_frame = full_data.get_final_data()\n",
    "# data_frame.to_csv('merged_final_data.csv', index=False)"
   ],
   "id": "549dfe295f6a59dd",
   "outputs": [],
   "execution_count": 2
  },
  {
   "metadata": {},
   "cell_type": "markdown",
   "source": "## GRU-D",
   "id": "912acd2524e5a166"
  },
  {
   "metadata": {
    "ExecuteTime": {
     "end_time": "2025-06-12T20:26:39.183537Z",
     "start_time": "2025-06-12T20:26:38.772025Z"
    }
   },
   "cell_type": "code",
   "source": [
    "dfShanghaiTimeSeries = full_data.process_col('Insulin dose - s.c.', r'\\s*(.*?),\\s*\\d+\\s*IU', ';')\n",
    "# name_col, match_pattern, split_by"
   ],
   "id": "6650d5187c13a62f",
   "outputs": [
    {
     "name": "stdout",
     "output_type": "stream",
     "text": [
      "Final dataframe shape: (122, 73)\n",
      "Extra IDs (in merger_df but not in summary_df): {'2035_0_20210629', '2054_0_20210524', '2044_0_20211101'}\n"
     ]
    }
   ],
   "execution_count": 3
  }
 ],
 "metadata": {
  "kernelspec": {
   "display_name": "Python 3",
   "language": "python",
   "name": "python3"
  },
  "language_info": {
   "codemirror_mode": {
    "name": "ipython",
    "version": 2
   },
   "file_extension": ".py",
   "mimetype": "text/x-python",
   "name": "python",
   "nbconvert_exporter": "python",
   "pygments_lexer": "ipython2",
   "version": "2.7.6"
  }
 },
 "nbformat": 4,
 "nbformat_minor": 5
}
