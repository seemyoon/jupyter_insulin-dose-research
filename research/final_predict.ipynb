{
 "cells": [
  {
   "metadata": {
    "ExecuteTime": {
     "end_time": "2025-06-30T16:31:30.577889Z",
     "start_time": "2025-06-30T16:31:30.571997Z"
    }
   },
   "cell_type": "code",
   "source": "from df_full_data import DfFullData",
   "id": "1ed815b65aa2f830",
   "outputs": [],
   "execution_count": 6
  },
  {
   "metadata": {},
   "cell_type": "markdown",
   "source": "# Input the data",
   "id": "b226b1c96af8d861"
  },
  {
   "metadata": {
    "ExecuteTime": {
     "end_time": "2025-06-30T16:31:40.355328Z",
     "start_time": "2025-06-30T16:31:30.639627Z"
    }
   },
   "cell_type": "code",
   "source": [
    "df_full = DfFullData('../full_data/Shanghai_diabetes_datasets/Shanghai_CSV-Data').normalize_all()\n",
    "df = df_full.df\n",
    "# df.to_csv('finish_data.csv', index=False)"
   ],
   "id": "1b243a065c88e752",
   "outputs": [
    {
     "name": "stdout",
     "output_type": "stream",
     "text": [
      "Final dataframe shape: (122, 73)\n",
      "Final dataframe shape: (122, 73)\n"
     ]
    }
   ],
   "execution_count": 7
  }
 ],
 "metadata": {
  "kernelspec": {
   "display_name": "Python 3",
   "language": "python",
   "name": "python3"
  },
  "language_info": {
   "codemirror_mode": {
    "name": "ipython",
    "version": 2
   },
   "file_extension": ".py",
   "mimetype": "text/x-python",
   "name": "python",
   "nbconvert_exporter": "python",
   "pygments_lexer": "ipython2",
   "version": "2.7.6"
  }
 },
 "nbformat": 4,
 "nbformat_minor": 5
}
