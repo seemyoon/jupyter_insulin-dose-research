{
 "cells": [
  {
   "metadata": {
    "ExecuteTime": {
     "end_time": "2025-06-14T18:31:20.836064Z",
     "start_time": "2025-06-14T18:31:20.355143Z"
    }
   },
   "cell_type": "code",
   "source": "from df_full_data import DfFullData",
   "id": "1ed815b65aa2f830",
   "outputs": [],
   "execution_count": 1
  },
  {
   "metadata": {},
   "cell_type": "markdown",
   "source": "# Input the data",
   "id": "b226b1c96af8d861"
  },
  {
   "metadata": {
    "ExecuteTime": {
     "end_time": "2025-06-14T18:31:31.636247Z",
     "start_time": "2025-06-14T18:31:20.890384Z"
    }
   },
   "cell_type": "code",
   "source": [
    "df_full = DfFullData('../data/Shanghai_diabetes_datasets/Shanghai_CSV-Data').normalize_all()\n",
    "df = df_full.df\n",
    "df.to_csv('finish_data.csv', index=False)\n",
    "# df.shape\n",
    "# (126757, 87)\n",
    "# (126757, 101)\n",
    "# (126757, 93)"
   ],
   "id": "1b243a065c88e752",
   "outputs": [
    {
     "name": "stdout",
     "output_type": "stream",
     "text": [
      "Final dataframe shape: (122, 73)\n",
      "Final dataframe shape: (122, 73)\n"
     ]
    }
   ],
   "execution_count": 2
  },
  {
   "metadata": {
    "ExecuteTime": {
     "end_time": "2025-06-14T18:31:31.657747Z",
     "start_time": "2025-06-14T18:31:31.655603Z"
    }
   },
   "cell_type": "code",
   "source": "# df_full = DfFullData('../data/Shanghai_diabetes_datasets/Shanghai_CSV-Data').normalize_non_insulin_agents()",
   "id": "a9ad3722f0898c2c",
   "outputs": [],
   "execution_count": 3
  }
 ],
 "metadata": {
  "kernelspec": {
   "display_name": "Python 3",
   "language": "python",
   "name": "python3"
  },
  "language_info": {
   "codemirror_mode": {
    "name": "ipython",
    "version": 2
   },
   "file_extension": ".py",
   "mimetype": "text/x-python",
   "name": "python",
   "nbconvert_exporter": "python",
   "pygments_lexer": "ipython2",
   "version": "2.7.6"
  }
 },
 "nbformat": 4,
 "nbformat_minor": 5
}
