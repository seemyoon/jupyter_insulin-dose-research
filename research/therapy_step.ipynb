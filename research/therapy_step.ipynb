{
 "cells": [
  {
   "metadata": {},
   "cell_type": "markdown",
   "source": "# Input the data",
   "id": "b226b1c96af8d861"
  },
  {
   "metadata": {},
   "cell_type": "code",
   "source": [
    "import os\n",
    "from pathlib import Path\n",
    "\n",
    "import matplotlib.pyplot as plt\n",
    "import pandas as pd\n",
    "import seaborn as sns\n",
    "import xgboost as xgb\n",
    "from imblearn.pipeline import Pipeline\n",
    "from lightgbm import LGBMClassifier\n",
    "from sklearn import preprocessing\n",
    "from sklearn.compose import ColumnTransformer\n",
    "from sklearn.linear_model import LogisticRegression\n",
    "from sklearn.metrics import accuracy_score, classification_report\n",
    "from sklearn.metrics import confusion_matrix\n",
    "from sklearn.model_selection import GridSearchCV\n",
    "from sklearn.model_selection import StratifiedKFold, train_test_split\n",
    "from sklearn.neighbors import KNeighborsClassifier\n",
    "from sklearn.preprocessing import LabelEncoder\n",
    "from sklearn.preprocessing import StandardScaler\n",
    "from sklearn.tree import DecisionTreeClassifier\n",
    "from imblearn.over_sampling import SMOTENC\n",
    "from sklearn.multiclass import OneVsRestClassifier, OneVsOneClassifier\n",
    "from imblearn.pipeline import Pipeline as ImbPipeline\n",
    "from sklearn.ensemble import RandomForestClassifier"
   ],
   "id": "549dfe295f6a59dd",
   "outputs": [],
   "execution_count": null
  },
  {
   "metadata": {},
   "cell_type": "markdown",
   "source": "## load dataset (clinical_info)",
   "id": "bdd958f6dde6e37e"
  },
  {
   "metadata": {},
   "cell_type": "code",
   "source": [
    "folder_path = Path('../data/Shanghai_diabetes_datasets/clinical_info/csv')\n",
    "\n",
    "if not os.path.exists(folder_path):\n",
    "    raise FileNotFoundError(f\"directory {folder_path} doesn't exist\")\n",
    "\n",
    "df1 = pd.read_csv(folder_path.joinpath('Shanghai_T1DM_Summary.csv'))\n",
    "df2 = pd.read_csv(folder_path.joinpath('Shanghai_T2DM_Summary.csv'))\n",
    "\n",
    "combined_df = pd.concat([df1, df2], ignore_index=True)\n",
    "combined_df.head(9)"
   ],
   "id": "a784912bcfa897ca",
   "outputs": [],
   "execution_count": null
  },
  {
   "metadata": {},
   "cell_type": "markdown",
   "source": "## handling missing values",
   "id": "f31e70a51adc6a1f"
  },
  {
   "metadata": {},
   "cell_type": "code",
   "source": [
    "combined_df.replace('/', pd.NA, inplace=True)  # convert / to null\n",
    "\n",
    "cols_to_fill = [\n",
    "    'Age (years)', 'Height (m)', 'Weight (kg)', 'BMI (kg/m2)', 'Smoking History (pack year)',\n",
    "    'Duration of Diabetes (years)', 'Fasting Plasma Glucose (mg/dl)',\n",
    "    '2-hour Postprandial Plasma Glucose (mg/dl)', 'Fasting C-peptide (nmol/L)',\n",
    "    '2-hour Postprandial C-peptide (nmol/L)', 'Fasting Insulin (pmol/L)',\n",
    "    '2-hour Postprandial Insulin (pmol/L)', 'HbA1c (mmol/mol)', 'Glycated Albumin (%)',\n",
    "    'Total Cholesterol (mmol/L)', 'Triglyceride (mmol/L)',\n",
    "    'High-Density Lipoprotein Cholesterol (mmol/L)', 'Low-Density Lipoprotein Cholesterol (mmol/L)',\n",
    "    'Creatinine (umol/L)', 'Estimated Glomerular Filtration Rate  (ml/min/1.73m2)',\n",
    "    'Uric Acid (mmol/L)', 'Blood Urea Nitrogen (mmol/L)'\n",
    "]\n",
    "\n",
    "for col in cols_to_fill:\n",
    "    if col in combined_df.columns:\n",
    "        combined_df[col] = pd.to_numeric(combined_df[col].astype(str).str.strip(), errors='coerce')\n",
    "\n",
    "combined_df[cols_to_fill] = combined_df[cols_to_fill].fillna(combined_df[cols_to_fill].median())"
   ],
   "id": "ae8bc6708bcbe73d",
   "outputs": [],
   "execution_count": null
  },
  {
   "metadata": {},
   "cell_type": "markdown",
   "source": "## analyse data",
   "id": "552b9cde0916ed8"
  },
  {
   "metadata": {},
   "cell_type": "code",
   "source": "combined_df.describe()",
   "id": "cb8a2e307ce8e19b",
   "outputs": [],
   "execution_count": null
  },
  {
   "metadata": {},
   "cell_type": "markdown",
   "source": "## handling duplicates",
   "id": "741490d8ba3f038e"
  },
  {
   "metadata": {},
   "cell_type": "code",
   "source": [
    "duplicate_rows_data = combined_df[combined_df.duplicated()]\n",
    "print('duplicate_rows_data', duplicate_rows_data)"
   ],
   "id": "a781f069329eb6b7",
   "outputs": [],
   "execution_count": null
  },
  {
   "metadata": {},
   "cell_type": "markdown",
   "source": "## uniqueness",
   "id": "6d43289f0fc94324"
  },
  {
   "metadata": {},
   "cell_type": "code",
   "source": [
    "for column in combined_df.columns:\n",
    "    unique_value = len(combined_df[column].unique())\n",
    "    print(f'{column}: {unique_value} quantity unique value')"
   ],
   "id": "db1dbd54d9da967a",
   "outputs": [],
   "execution_count": null
  },
  {
   "metadata": {},
   "cell_type": "markdown",
   "source": "## emissions",
   "id": "7a8b54757548b5eb"
  },
  {
   "metadata": {},
   "cell_type": "code",
   "source": [
    "for col in cols_to_fill:\n",
    "    q1 = combined_df[col].quantile(0.25)\n",
    "    q3 = combined_df[col].quantile(0.75)\n",
    "    iqr = q3 - q1\n",
    "    lower = q1 - 1.5 * iqr\n",
    "    upper = q3 + 1.5 * iqr\n",
    "    outliers = combined_df[(combined_df[col] < lower) | (combined_df[col] > upper)]\n",
    "    print(f'{col}: {len(outliers)} emissions')"
   ],
   "id": "a17062c87078c4ce",
   "outputs": [],
   "execution_count": null
  },
  {
   "metadata": {},
   "cell_type": "markdown",
   "source": "## correction emissions",
   "id": "b17b731ef21f0aa9"
  },
  {
   "metadata": {},
   "cell_type": "code",
   "source": [
    "combined_df = combined_df[combined_df['Fasting Insulin (pmol/L)'] < 700]\n",
    "combined_df = combined_df[combined_df['2-hour Postprandial Insulin (pmol/L)'] < 800]"
   ],
   "id": "e4b1bb81fde42db",
   "outputs": [],
   "execution_count": null
  },
  {
   "metadata": {},
   "cell_type": "markdown",
   "source": "## fix faulty values",
   "id": "9c5c137511fb44fe"
  },
  {
   "metadata": {},
   "cell_type": "code",
   "source": [
    "combined_df['Other Agents'] = combined_df['Other Agents'].str.replace('raberazole', 'rabeprazole')\n",
    "combined_df['Other Agents'] = combined_df['Other Agents'].str.replace('calcium carbonate and vitamin D3 tablet',\n",
    "                                                                      'calcium carbonate, vitamin D3 tablet')\n",
    "combined_df['Other Agents'] = combined_df['Other Agents'].str.replace('rosuvastatinqn', 'rosuvastatin')\n",
    "combined_df['Other Agents'] = combined_df['Other Agents'].str.replace('nifedipine doxazosin', 'nifedipine, doxazosin')"
   ],
   "id": "aee0f09750f40eef",
   "outputs": [],
   "execution_count": null
  },
  {
   "metadata": {},
   "cell_type": "markdown",
   "source": "# grouped columns",
   "id": "1230eab29c2e6353"
  },
  {
   "metadata": {},
   "cell_type": "markdown",
   "source": "## find_unknown_agents",
   "id": "3e761ced53acdd4b"
  },
  {
   "metadata": {},
   "cell_type": "code",
   "source": [
    "def find_unknown_agents(df, col_name, items_to_group):\n",
    "    all_agents = set()\n",
    "\n",
    "    for elem in df[col_name]:\n",
    "        agents = [agent.strip() for agent in elem.split(',')]\n",
    "        all_agents.update(agents)\n",
    "\n",
    "    unknown_agents = sorted(\n",
    "        [unk_ag for unk_ag in all_agents if unk_ag not in items_to_group and unk_ag.lower() != 'none'])\n",
    "\n",
    "    for unk_ag in unknown_agents: print(unk_ag)"
   ],
   "id": "196e1ab12513bf9e",
   "outputs": [],
   "execution_count": null
  },
  {
   "metadata": {},
   "cell_type": "markdown",
   "source": "## add_group_flags",
   "id": "b75533bbee6f7b4f"
  },
  {
   "metadata": {},
   "cell_type": "code",
   "source": [
    "def add_group_flags(df, column_name, items_to_group):\n",
    "    all_groups = sorted(set(items_to_group.values()))\n",
    "\n",
    "    def parse_agents(row):\n",
    "        if pd.isna(row): return []\n",
    "        return [agent.strip() for agent in row.split(',')]\n",
    "\n",
    "    for group in all_groups:\n",
    "        df[f'has_{group}'] = df[column_name].apply(\n",
    "            lambda x: int(any(items_to_group.get(agent) == group for agent in parse_agents(x)))\n",
    "        )\n",
    "\n",
    "    df = df.drop(columns=[column_name], axis=1)\n",
    "    return df"
   ],
   "id": "a028f2739599f3cf",
   "outputs": [],
   "execution_count": null
  },
  {
   "metadata": {},
   "cell_type": "markdown",
   "source": "## Other Agents",
   "id": "491d91612002dafd"
  },
  {
   "metadata": {},
   "cell_type": "code",
   "source": [
    "drug_to_group = {\n",
    "    # hypolipidemic\n",
    "    'pravastatin': 'hypolipidemic',\n",
    "    'rosuvastatin': 'hypolipidemic',\n",
    "    'fenofibrate': 'hypolipidemic',\n",
    "    'ezetimibe': 'hypolipidemic',\n",
    "    'atorvastatin': 'hypolipidemic',\n",
    "\n",
    "    # angioprotectors\n",
    "    'calcium dobesilate': 'angioprotectors',\n",
    "    'beiprostaglandin sodium': 'angioprotectors',\n",
    "\n",
    "    # ace inhibitors\n",
    "    'benazepril': 'ace_inhibitors',\n",
    "\n",
    "    # minerals and vitamins\n",
    "    'potassium chloride': 'minerals_and_vitamins',\n",
    "    'calcium carbonate': 'minerals_and_vitamins',\n",
    "    'calcitriol': 'minerals_and_vitamins',\n",
    "    'multivitamin': 'minerals_and_vitamins',\n",
    "    'vitamin B1': 'minerals_and_vitamins',\n",
    "    'vitamin D3 tablet': 'minerals_and_vitamins',\n",
    "    'mecobalamin': 'minerals_and_vitamins',\n",
    "\n",
    "    # probiotics\n",
    "    'clostridium butyricum': 'probiotics',\n",
    "\n",
    "    # ARB\n",
    "    'telmisartan': 'arb',\n",
    "    'valsartan': 'arb',\n",
    "    'olmesartan medoxomil': 'arb',\n",
    "    'olmesartan': 'arb',\n",
    "    'losartan': 'arb',\n",
    "    'losartan/hydrochlorothiazide': 'arb',\n",
    "    'irbesartan': 'arb',\n",
    "    'candesartan': 'arb',\n",
    "    'allisartan': 'arb',\n",
    "\n",
    "    # psychotropic\n",
    "    'quetiapine': 'psychotropic',\n",
    "\n",
    "    # antianginal\n",
    "    'isosorbide mononitrate': 'antianginal',\n",
    "\n",
    "    # gout treatment\n",
    "    'febuxostat': 'gout_treatment',\n",
    "\n",
    "    # laxatives\n",
    "    'bisacodyl': 'laxatives',\n",
    "\n",
    "    # urological drugs\n",
    "    'Qianlie Shutong capsule  (Chinese patent drug for prostatic hyperplasia)': 'urological_drugs',\n",
    "\n",
    "    # calcium channel blockers\n",
    "    'nifedipine': 'calcium_channel_blockers',\n",
    "    'amlodipine': 'calcium_channel_blockers',\n",
    "    'felodipine': 'calcium_channel_blockers',\n",
    "    'benidipine': 'calcium_channel_blockers',\n",
    "\n",
    "    # antiarrhythmic\n",
    "    'doxazosin': 'antiarrhythmic',\n",
    "    'labetalol': 'antiarrhythmic',\n",
    "    'bisoprolol': 'antiarrhythmic',\n",
    "    'metoprolol': 'antiarrhythmic',\n",
    "\n",
    "    # gastroprotective\n",
    "    'rabeprazole': 'gastroprotective',\n",
    "\n",
    "    # circulatory support\n",
    "    'Yinxingye tablet (extract of Ginkgo biloba leaves)': 'circulatory_support',\n",
    "\n",
    "    # antithrombotic\n",
    "    'aspirin': 'antithrombotic',\n",
    "    'clopidogrel': 'antithrombotic',\n",
    "    'rivaroxaban': 'antithrombotic',\n",
    "\n",
    "    # vasodilators\n",
    "    'trimetazidine': 'vasodilators',\n",
    "    'magnesium isoglycyrrhizinate': 'vasodilators',\n",
    "\n",
    "    # pancreatic\n",
    "    'pancreatic kininogenase': 'pancreatic',\n",
    "\n",
    "    # neuroprotectors\n",
    "    'epalrestat': 'neuroprotectors',\n",
    "\n",
    "    # kidney support\n",
    "    'compound α-keto acid tablet': 'kidney_support',\n",
    "    'Shen Shuai Ning capsule (Chinese patent drug for renal dysfunction)': 'kidney_support',\n",
    "\n",
    "    # hepatoprotector\n",
    "    'polyene phosphatidylcholine': 'hepatoprotector',\n",
    "    'diammonium glycyrrhizinate': 'hepatoprotector',\n",
    "\n",
    "    # immunomodulators\n",
    "    'leucogen': 'immunomodulators',\n",
    "\n",
    "    # thyroid diseases\n",
    "    'levothyroxine': 'thyroid_diseases',\n",
    "\n",
    "    # antibiotics\n",
    "    'levofloxacin': 'antibiotics',\n",
    "\n",
    "    # antihypertensives\n",
    "    'Zhenju Jiangya tablet (Chinese patent drug for hypertension)': 'antihypertensives',\n",
    "\n",
    "    # vestibular disorders\n",
    "    'betahistine': 'vestibular_disorders',\n",
    "}"
   ],
   "id": "daeb5828841e0571",
   "outputs": [],
   "execution_count": null
  },
  {
   "metadata": {},
   "cell_type": "code",
   "source": [
    "find_unknown_agents(combined_df, 'Other Agents', drug_to_group)\n",
    "combined_df = add_group_flags(combined_df, 'Other Agents', drug_to_group)\n",
    "combined_df.head()"
   ],
   "id": "994a4341b613b751",
   "outputs": [],
   "execution_count": null
  },
  {
   "metadata": {},
   "cell_type": "markdown",
   "source": "## Comorbidities",
   "id": "f3b1effef72e7dc9"
  },
  {
   "metadata": {},
   "cell_type": "code",
   "source": [
    "disease_to_group = {\n",
    "    # diseases_of_the_stomach_and_intestines\n",
    "    'chronic atrophic gastritis': 'diseases_of_the_stomach_and_intestines',\n",
    "    'colorectal polyp': 'diseases_of_the_stomach_and_intestines',\n",
    "    'chronic gastritis': 'diseases_of_the_stomach_and_intestines',\n",
    "    'gastric polyp': 'diseases_of_the_stomach_and_intestines',\n",
    "\n",
    "    # diseases_of_the_musculoskeletal_system\n",
    "    'lumbar herniated disc': 'diseases_of_the_musculoskeletal_system',\n",
    "    'osteopenia': 'diseases_of_the_musculoskeletal_system',\n",
    "    'osteoporosis': 'diseases_of_the_musculoskeletal_system',\n",
    "    'lumbar spine tumor': 'diseases_of_the_musculoskeletal_system',\n",
    "\n",
    "    # cardiovascular_diseases\n",
    "    'myocardial bridging': 'cardiovascular_diseases',\n",
    "    'sinus arrhythmia': 'cardiovascular_diseases',\n",
    "    'hypertension': 'cardiovascular_diseases',\n",
    "    'hyperlipidemia': 'cardiovascular_diseases',\n",
    "    'sinus bradycardia': 'cardiovascular_diseases',\n",
    "    'atrial fibrillation': 'cardiovascular_diseases',\n",
    "\n",
    "    # kidney_diseases\n",
    "    'kidney cyst': 'kidney_diseases',\n",
    "    'hydronephrosis': 'kidney_diseases',\n",
    "    'nephrolithiasis': 'kidney_diseases',\n",
    "    'urinary tract infection': 'kidney_diseases',\n",
    "\n",
    "    # dental_diseases\n",
    "    'periodontitis': 'dental_diseases',\n",
    "\n",
    "    # gynecological_diseases\n",
    "    'hysteromyoma': 'gynecological_diseases',\n",
    "\n",
    "    # neurological_and_psychiatric_diseases\n",
    "    'anxiety': 'neurological_and_psychiatric_diseases',\n",
    "    'cerebrovascular disease': 'neurological_and_psychiatric_diseases',\n",
    "    \"Alzheimer's disease\": 'neurological_and_psychiatric_diseases',\n",
    "    \"Parkinson's disease\": 'neurological_and_psychiatric_diseases',\n",
    "\n",
    "    # liver_diseases\n",
    "    'fatty liver disease': 'liver_diseases',\n",
    "    'fatty liver disese': 'liver_diseases',\n",
    "    'liver cyst': 'liver_diseases',\n",
    "    'hepatic dysfunction': 'liver_diseases',\n",
    "\n",
    "    # gallbladder_diseases\n",
    "    'cholecystitis': 'gallbladder_diseases',\n",
    "    'cholelithiasis': 'gallbladder_diseases',\n",
    "    'gallbladder polyp': 'gallbladder_diseases',\n",
    "\n",
    "    # infectious_diseases\n",
    "    'chronic hepatitis B': 'infectious_diseases',\n",
    "\n",
    "    # oncology\n",
    "    'breast cancer': 'oncology',\n",
    "    'pancreatic cancer': 'oncology',\n",
    "    'parotid gland carcinoma': 'oncology',\n",
    "    'lung lesion': 'oncology',\n",
    "    'pulmonary nodule': 'oncology',\n",
    "\n",
    "    # endocrine_diseases\n",
    "    'hypoparathyroidism': 'endocrine_diseases',\n",
    "    'hypothyroidism': 'endocrine_diseases',\n",
    "    'enlarged adrenal gland': 'endocrine_diseases',\n",
    "    'thyroid nodule': 'endocrine_diseases',\n",
    "\n",
    "    # male_reproductive_diseases\n",
    "    'prostatic hyperplasia': 'male_reproductive_diseases',\n",
    "\n",
    "    # eye_diseases\n",
    "    'cataract': 'eye_diseases',\n",
    "    'conjunctivitis': 'eye_diseases',\n",
    "\n",
    "    # hematologic_disorders\n",
    "    'hypoleukocytemia': 'hematologic_disorders',\n",
    "    'leucopenia': 'hematologic_disorders',\n",
    "\n",
    "    # autoimmune_diseases\n",
    "    'systemic sclerosis': 'autoimmune_diseases',\n",
    "    'psoriasis': 'autoimmune_diseases',\n",
    "\n",
    "    # electrolyte_and_mineral_disorders\n",
    "    'hypocalcemia': 'electrolyte_and_mineral_disorders',\n",
    "    'hypokalemia': 'electrolyte_and_mineral_disorders',\n",
    "    'vitamin D deficiency': 'electrolyte_and_mineral_disorders',\n",
    "    'hyperuricemia': 'electrolyte_and_mineral_disorders',\n",
    "}"
   ],
   "id": "5febc1a15f032aa5",
   "outputs": [],
   "execution_count": null
  },
  {
   "metadata": {},
   "cell_type": "code",
   "source": [
    "find_unknown_agents(combined_df, 'Comorbidities', disease_to_group)\n",
    "combined_df = add_group_flags(combined_df, 'Comorbidities', disease_to_group)\n",
    "combined_df.head()"
   ],
   "id": "30c7fbca98062f50",
   "outputs": [],
   "execution_count": null
  },
  {
   "metadata": {},
   "cell_type": "code",
   "source": "combined_df.shape",
   "id": "8ec56a72023e947e",
   "outputs": [],
   "execution_count": null
  },
  {
   "metadata": {},
   "cell_type": "markdown",
   "source": "## drop unused columns",
   "id": "c42393362e93a87d"
  },
  {
   "metadata": {},
   "cell_type": "code",
   "source": "combined_df = combined_df.drop(columns=['Hypoglycemic Agents'])",
   "id": "bf5ba870d35544a7",
   "outputs": [],
   "execution_count": null
  },
  {
   "metadata": {},
   "cell_type": "code",
   "source": "combined_df.head()",
   "id": "6756085d4fac95ba",
   "outputs": [],
   "execution_count": null
  },
  {
   "metadata": {},
   "cell_type": "markdown",
   "source": "# specify has_macrovascular and has_microvascular complications",
   "id": "fbdf7bf47f46f43"
  },
  {
   "metadata": {},
   "cell_type": "code",
   "source": [
    "def specify_has_or_no(df, column_name):\n",
    "    column_name = column_name.strip()\n",
    "\n",
    "    def has_any_value(row):\n",
    "        if pd.isna(row): return 0\n",
    "        for el in row.split(','):\n",
    "            el = el.strip().lower()\n",
    "            if el and el != 'none':\n",
    "                return 1\n",
    "        return 0\n",
    "\n",
    "    new_name_column = f'has_{column_name.lower().replace(' ', '_')}'\n",
    "    df[new_name_column] = df[column_name].apply(has_any_value)\n",
    "\n",
    "    return df"
   ],
   "id": "befd0933d4fb4097",
   "outputs": [],
   "execution_count": null
  },
  {
   "metadata": {},
   "cell_type": "code",
   "source": [
    "combined_df = specify_has_or_no(combined_df, 'Diabetic Microvascular Complications')\n",
    "\n",
    "combined_df = combined_df.drop(columns=['Diabetic Microvascular Complications'])\n",
    "\n",
    "combined_df"
   ],
   "id": "700ef546df700fa7",
   "outputs": [],
   "execution_count": null
  },
  {
   "metadata": {},
   "cell_type": "code",
   "source": [
    "combined_df = specify_has_or_no(combined_df, 'Diabetic Macrovascular  Complications')\n",
    "\n",
    "combined_df = combined_df.drop(columns=['Diabetic Macrovascular  Complications'])\n",
    "\n",
    "combined_df.head(6)"
   ],
   "id": "511b87cf7716e2f8",
   "outputs": [],
   "execution_count": null
  },
  {
   "metadata": {},
   "cell_type": "code",
   "source": [
    "combined_df = specify_has_or_no(combined_df, 'Acute Diabetic Complications')\n",
    "\n",
    "combined_df = combined_df.drop(columns=['Acute Diabetic Complications'])\n",
    "\n",
    "combined_df.head(8)"
   ],
   "id": "d98681660900a09a",
   "outputs": [],
   "execution_count": null
  },
  {
   "metadata": {},
   "cell_type": "markdown",
   "source": [
    "## encoding columns Alcohol Drinking History (drinker/non-drinker) and Hypoglycemia (yes/no)\n",
    "\n",
    "Hypoglycemia (yes/no) -> (yes 1 / no 0)\n",
    "Alcohol Drinking History (drinker/non-drinker) -> (yes 0 / no 1)"
   ],
   "id": "69da7d82e7c1ac31"
  },
  {
   "metadata": {},
   "cell_type": "code",
   "source": [
    "label_encoder = preprocessing.LabelEncoder()\n",
    "\n",
    "for col_to_encode in ['Alcohol Drinking History (drinker/non-drinker)', 'Hypoglycemia (yes/no)', 'Type of Diabetes']:\n",
    "    combined_df[col_to_encode] = label_encoder.fit_transform(combined_df[col_to_encode])\n",
    "\n",
    "combined_df.head()"
   ],
   "id": "66d47d167aed217",
   "outputs": [],
   "execution_count": null
  },
  {
   "metadata": {},
   "cell_type": "markdown",
   "source": "## rename Hypoglycemia (yes/no)",
   "id": "481af5f0cd1f7d66"
  },
  {
   "metadata": {},
   "cell_type": "code",
   "source": "combined_df[f'has_hypoglycemia'] = combined_df['Hypoglycemia (yes/no)']",
   "id": "60a457c849e9db27",
   "outputs": [],
   "execution_count": null
  },
  {
   "metadata": {},
   "cell_type": "code",
   "source": [
    "df = combined_df.drop(columns=['Hypoglycemia (yes/no)'])\n",
    "df.head()"
   ],
   "id": "af78208301b5b4ff",
   "outputs": [],
   "execution_count": null
  },
  {
   "metadata": {},
   "cell_type": "code",
   "source": "df.columns",
   "id": "1077b1a7f2fdfd",
   "outputs": [],
   "execution_count": null
  },
  {
   "metadata": {},
   "cell_type": "markdown",
   "source": "# indicating therapy_type",
   "id": "e7526d6832de98e6"
  },
  {
   "metadata": {},
   "cell_type": "code",
   "source": [
    "folder_Shanghai_T1DM = Path('../data/Shanghai_diabetes_datasets/Shanghai_CSV-Data/T1DM')\n",
    "folder_Shanghai_T2DM = Path('../data/Shanghai_diabetes_datasets/Shanghai_CSV-Data/T2DM')"
   ],
   "id": "ad8b1b2e1dc4bb8c",
   "outputs": [],
   "execution_count": null
  },
  {
   "metadata": {},
   "cell_type": "markdown",
   "source": "## converting check",
   "id": "53ea8008dc9c9a7a"
  },
  {
   "metadata": {},
   "cell_type": "code",
   "source": [
    "folder_excel = Path('../data/Shanghai_diabetes_datasets/Shanghai_T2DM/')\n",
    "folder_csv = Path('../data/Shanghai_diabetes_datasets/Shanghai_CSV-Data/T2DM')\n",
    "\n",
    "excel_names = {file.stem for file in folder_excel.glob('*.xlsx')} | \\\n",
    "              {file.stem for file in folder_excel.glob('*.xls')}\n",
    "\n",
    "csv_names = {f.stem for f in folder_csv.glob('*.csv')}\n",
    "\n",
    "missing_converted = excel_names - csv_names\n",
    "\n",
    "if missing_converted:\n",
    "    print(\"The following Excel files were not converted to CSV:\")\n",
    "    for name in sorted(missing_converted):\n",
    "        print(name + ' (missing .csv)')\n",
    "else:\n",
    "    print(\"All Excel files were successfully converted to CSV.\")"
   ],
   "id": "ae0b005b5d82f816",
   "outputs": [],
   "execution_count": null
  },
  {
   "metadata": {},
   "cell_type": "markdown",
   "source": "## determine_treatment",
   "id": "3f15a091448498ef"
  },
  {
   "metadata": {},
   "cell_type": "code",
   "source": [
    "def determine_treatment(file_path):\n",
    "    df = pd.read_csv(file_path)\n",
    "    treatments = []\n",
    "\n",
    "    if 'Insulin dose - s.c.' in df.columns and df['Insulin dose - s.c.'].dropna().astype(str).str.strip().ne('').any():\n",
    "        treatments.append('s.c. insulin')\n",
    "\n",
    "    if 'Insulin dose - i.v.' in df.columns and df['Insulin dose - i.v.'].dropna().astype(str).str.strip().ne('').any():\n",
    "        treatments.append('i.v. insulin')\n",
    "\n",
    "    if 'CSII - bolus insulin (Novolin R, IU)' in df.columns and df[\n",
    "        'CSII - bolus insulin (Novolin R, IU)'].dropna().astype(str).str.strip().ne('').any():\n",
    "        treatments.append('CSII bolus')\n",
    "\n",
    "    if 'CSII - basal insulin (Novolin R, IU / H)' in df.columns and df[\n",
    "        'CSII - basal insulin (Novolin R, IU / H)'].dropna().astype(str).str.strip().ne('').any():\n",
    "        treatments.append('CSII basal')\n",
    "\n",
    "    if 'Non-insulin hypoglycemic agents' in df.columns and df['Non-insulin hypoglycemic agents'].dropna().astype(\n",
    "            str).str.strip().ne('').any():\n",
    "        treatments.append('non-insulin agents')\n",
    "\n",
    "    return '; '.join(treatments)"
   ],
   "id": "8c8e47a3b63a9dcb",
   "outputs": [],
   "execution_count": null
  },
  {
   "metadata": {},
   "cell_type": "code",
   "source": [
    "treatment_map_1 = {}\n",
    "treatment_map_2 = {}\n",
    "\n",
    "for file in folder_Shanghai_T1DM.glob('*.csv'):\n",
    "    for patient_id in df['Patient Number']:\n",
    "        if patient_id in file.name:\n",
    "            treatment_map_1[patient_id] = determine_treatment(file)\n",
    "            break\n",
    "\n",
    "for file in folder_Shanghai_T2DM.glob('*.csv'):\n",
    "    for patient_id in df['Patient Number']:\n",
    "        if patient_id in file.name:\n",
    "            treatment_map_2[patient_id] = determine_treatment(file)\n",
    "            break\n",
    "\n",
    "treatment_map = {**treatment_map_1, **treatment_map_2}\n",
    "\n",
    "df['treatment'] = df['Patient Number'].map(treatment_map)\n",
    "df.head()"
   ],
   "id": "f1d170e1cc708024",
   "outputs": [],
   "execution_count": null
  },
  {
   "metadata": {},
   "cell_type": "markdown",
   "source": "## deleted null treatment",
   "id": "86600fffeb0bd9fe"
  },
  {
   "metadata": {},
   "cell_type": "code",
   "source": [
    "df = df[df['treatment'].notna()]\n",
    "\n",
    "# folder_path = Path('../data/Shanghai_diabetes_datasets/3_step_finish_dataset/3_step_finish_dataset.csv')\n",
    "# df.to_csv(folder_path)"
   ],
   "id": "31244749159c4c0e",
   "outputs": [],
   "execution_count": null
  },
  {
   "metadata": {},
   "cell_type": "markdown",
   "source": "## grouped non-insulin, insulin treatment or mixed",
   "id": "1cbdc80695f5c4fb"
  },
  {
   "metadata": {},
   "cell_type": "code",
   "source": [
    "def classify_treatment(df):\n",
    "    insulin_treatments = {'CSII bolus', 'CSII basal', 's.c. insulin', 'i.v. insulin'}\n",
    "    non_insulin_treatment = 'non-insulin agents'\n",
    "\n",
    "    def classify(row):\n",
    "\n",
    "        treatments = set([value.strip() for value in row.split(';')])\n",
    "\n",
    "        has_insulin = bool(treatments.intersection(insulin_treatments))\n",
    "        has_non_insulin = non_insulin_treatment in treatments\n",
    "\n",
    "        if has_insulin and has_non_insulin:\n",
    "            return 'mixed_treatment'\n",
    "        elif has_insulin:\n",
    "            return 'insulin_treatment'\n",
    "        elif has_non_insulin:\n",
    "            return 'drug_treatment'\n",
    "        else:\n",
    "            return None\n",
    "\n",
    "    df['treatment_type'] = df['treatment'].apply(classify)\n",
    "\n",
    "    df = df.dropna(subset=['treatment_type'])\n",
    "\n",
    "    return df\n",
    "\n",
    "\n",
    "df = classify_treatment(df)\n",
    "folder_path = Path('../data/Shanghai_diabetes_datasets/3_step_finish_dataset/3_step_finish_dataset.csv')\n",
    "df.to_csv(folder_path)"
   ],
   "id": "c546b3283e8a19fe",
   "outputs": [],
   "execution_count": null
  },
  {
   "metadata": {},
   "cell_type": "code",
   "source": [
    "# def classify_treatment(df):\n",
    "#     insulin_treatments = {'CSII bolus', 'CSII basal', 's.c. insulin', 'i.v. insulin'}\n",
    "#     non_insulin_treatment = 'non-insulin agents'\n",
    "#\n",
    "#     def classify(row):\n",
    "#         treatments = set([value.strip() for value in row.split(';')])\n",
    "#\n",
    "#         has_insulin = bool(treatments.intersection(insulin_treatments))\n",
    "#         has_non_insulin = non_insulin_treatment in treatments\n",
    "#\n",
    "#         if has_insulin:\n",
    "#             return 'insulin_treatment'\n",
    "#         elif has_non_insulin:\n",
    "#             return 'drug_treatment'\n",
    "#         else:\n",
    "#             return None\n",
    "#\n",
    "#     df['treatment_type'] = df['treatment'].apply(classify)\n",
    "#\n",
    "#     df = df.dropna(subset=['treatment_type'])\n",
    "#\n",
    "#     return df\n",
    "#\n",
    "#\n",
    "# df = classify_treatment(df)\n",
    "# folder_path = Path('../data/Shanghai_diabetes_datasets/3_step_finish_dataset/3_step_finish_dataset.csv')\n",
    "# df.to_csv(folder_path)"
   ],
   "id": "c51fc9095b08e325",
   "outputs": [],
   "execution_count": null
  },
  {
   "metadata": {},
   "cell_type": "code",
   "source": "df = df.drop(columns=['treatment', 'Patient Number'], axis=1)",
   "id": "ba6fdf89302afbae",
   "outputs": [],
   "execution_count": null
  },
  {
   "metadata": {},
   "cell_type": "code",
   "source": "df.tail()",
   "id": "ffb54ad4ac8afa6f",
   "outputs": [],
   "execution_count": null
  },
  {
   "metadata": {},
   "cell_type": "markdown",
   "source": "## encoding columns treatment_type",
   "id": "3659af62eb6f5c06"
  },
  {
   "metadata": {},
   "cell_type": "code",
   "source": [
    "# label_encoder = preprocessing.LabelEncoder()\n",
    "#\n",
    "# df['treatment_type'] = label_encoder.fit_transform(df['treatment_type'])\n",
    "#\n",
    "# combined_df.head()"
   ],
   "id": "84be35d7773dbd52",
   "outputs": [],
   "execution_count": null
  },
  {
   "metadata": {},
   "cell_type": "markdown",
   "source": "## Visualisation treatment_type",
   "id": "d4310f435c489eef"
  },
  {
   "metadata": {},
   "cell_type": "code",
   "source": [
    "plt.figure(figsize=(10, 6))\n",
    "sns.countplot(x='treatment_type', hue='treatment_type', data=df, palette='viridis')\n",
    "plt.title('treatment_type')\n",
    "plt.show()"
   ],
   "id": "d175cf398f00683f",
   "outputs": [],
   "execution_count": null
  },
  {
   "metadata": {},
   "cell_type": "markdown",
   "source": "# PREDICTIVE ANALYSIS",
   "id": "b91ee1740ed9ae6"
  },
  {
   "metadata": {},
   "cell_type": "code",
   "source": [
    "# preprocessor = ColumnTransformer(\n",
    "#     transformers=[\n",
    "#         ('num', StandardScaler(), [\n",
    "#             'Age (years)', 'Height (m)', 'Weight (kg)', 'BMI (kg/m2)', 'Smoking History (pack year)',\n",
    "#             'Duration of Diabetes (years)', 'Fasting Plasma Glucose (mg/dl)',\n",
    "#             '2-hour Postprandial Plasma Glucose (mg/dl)',\n",
    "#             'Fasting C-peptide (nmol/L)', '2-hour Postprandial C-peptide (nmol/L)', 'Fasting Insulin (pmol/L)',\n",
    "#             '2-hour Postprandial Insulin (pmol/L)', 'HbA1c (mmol/mol)', 'Glycated Albumin (%)',\n",
    "#             'Total Cholesterol (mmol/L)',\n",
    "#             'Triglyceride (mmol/L)', 'High-Density Lipoprotein Cholesterol (mmol/L)',\n",
    "#             'Low-Density Lipoprotein Cholesterol (mmol/L)', 'Creatinine (umol/L)',\n",
    "#             'Estimated Glomerular Filtration Rate  (ml/min/1.73m2)', 'Uric Acid (mmol/L)',\n",
    "#             'Blood Urea Nitrogen (mmol/L)'\n",
    "#         ]),\n",
    "#         ('bin', 'passthrough',\n",
    "#          ['Gender (Female=1, Male=2)', 'has_hypoglycemia', 'Alcohol Drinking History (drinker/non-drinker)',\n",
    "#           'Type of Diabetes'\n",
    "#           ])\n",
    "#     ]\n",
    "# )\n",
    "#\n",
    "# X = df.drop('treatment_type', axis=1)\n",
    "# y = df['treatment_type']\n",
    "combined_df"
   ],
   "id": "123a430bafe49d63",
   "outputs": [],
   "execution_count": null
  },
  {
   "metadata": {},
   "cell_type": "code",
   "source": "df.shape",
   "id": "840ccdec3bd55c04",
   "outputs": [],
   "execution_count": null
  },
  {
   "metadata": {},
   "cell_type": "code",
   "source": [
    "df.head()\n",
    "df.to_csv('result.csv')"
   ],
   "id": "7a0487ed2a7421ce",
   "outputs": [],
   "execution_count": null
  },
  {
   "metadata": {},
   "cell_type": "markdown",
   "source": "# Define preprocessor",
   "id": "cb2d1a850ebc3d0c"
  },
  {
   "metadata": {},
   "cell_type": "code",
   "source": [
    "# # df_path = Path('../research/result1.csv')\n",
    "# # dfTest = pd.read_csv(df_path)\n",
    "#\n",
    "# preprocessor = ColumnTransformer(\n",
    "#     transformers=[\n",
    "#         ('num', StandardScaler(),\n",
    "#          ['Age (years)', 'Height (m)', 'Weight (kg)', 'BMI (kg/m2)', 'Smoking History (pack year)',\n",
    "#           'Duration of Diabetes (years)', 'Fasting Plasma Glucose (mg/dl)',\n",
    "#           '2-hour Postprandial Plasma Glucose (mg/dl)',\n",
    "#           'Fasting C-peptide (nmol/L)', '2-hour Postprandial C-peptide (nmol/L)', 'Fasting Insulin (pmol/L)',\n",
    "#           '2-hour Postprandial Insulin (pmol/L)', 'HbA1c (mmol/mol)', 'Glycated Albumin (%)',\n",
    "#           'Total Cholesterol (mmol/L)',\n",
    "#           'Triglyceride (mmol/L)', 'High-Density Lipoprotein Cholesterol (mmol/L)',\n",
    "#           'Low-Density Lipoprotein Cholesterol (mmol/L)', 'Creatinine (umol/L)',\n",
    "#           'Estimated Glomerular Filtration Rate  (ml/min/1.73m2)', 'Uric Acid (mmol/L)',\n",
    "#           'Blood Urea Nitrogen (mmol/L)']),\n",
    "#         ('bin', 'passthrough', [\n",
    "#             'Gender (Female=1, Male=2)', 'has_ace_inhibitors', 'has_angioprotectors', 'has_antianginal',\n",
    "#             'has_antiarrhythmic', 'has_antibiotics', 'has_antihypertensives', 'has_antithrombotic', 'has_arb',\n",
    "#             'has_calcium_channel_blockers', 'has_circulatory_support', 'has_gastroprotective', 'has_gout_treatment',\n",
    "#             'has_hepatoprotector', 'has_hypolipidemic', 'has_immunomodulators', 'has_kidney_support', 'has_laxatives',\n",
    "#             'has_minerals_and_vitamins', 'has_neuroprotectors', 'has_pancreatic', 'has_probiotics', 'has_psychotropic',\n",
    "#             'has_thyroid_diseases', 'has_urological_drugs', 'has_vasodilators', 'has_vestibular_disorders',\n",
    "#             'has_autoimmune_diseases', 'has_cardiovascular_diseases', 'has_dental_diseases',\n",
    "#             'has_diseases_of_the_musculoskeletal_system', 'has_diseases_of_the_stomach_and_intestines',\n",
    "#             'has_electrolyte_and_mineral_disorders', 'has_endocrine_diseases', 'has_eye_diseases',\n",
    "#             'has_gallbladder_diseases',\n",
    "#             'has_gynecological_diseases', 'has_hematologic_disorders', 'has_infectious_diseases', 'has_kidney_diseases',\n",
    "#             'has_liver_diseases', 'has_male_reproductive_diseases', 'has_neurological_and_psychiatric_diseases',\n",
    "#             'has_oncology',\n",
    "#             'has_diabetic_microvascular_complications', 'has_diabetic_macrovascular__complications',\n",
    "#             'has_acute_diabetic_complications', 'has_hypoglycemia', 'Alcohol Drinking History (drinker/non-drinker)',\n",
    "#             'Type of Diabetes'\n",
    "#         ])\n",
    "#     ]\n",
    "# )\n",
    "#\n",
    "# X = df.drop('treatment_type', axis=1)\n",
    "# y = df['treatment_type']"
   ],
   "id": "823f516e29aeaae0",
   "outputs": [],
   "execution_count": null
  },
  {
   "metadata": {},
   "cell_type": "code",
   "source": "# df.to_csv('result.csv')",
   "id": "44efc4fcfae2a0c0",
   "outputs": [],
   "execution_count": null
  },
  {
   "metadata": {},
   "cell_type": "code",
   "source": "# df.tail()",
   "id": "4acdf44e1100ace3",
   "outputs": [],
   "execution_count": null
  },
  {
   "metadata": {},
   "cell_type": "markdown",
   "source": "# Create Pipeline / predict and evaluate",
   "id": "bdcf25d265ce639a"
  },
  {
   "metadata": {},
   "cell_type": "markdown",
   "source": "## RFC",
   "id": "6ad9fbc7fe6131f5"
  },
  {
   "metadata": {},
   "cell_type": "code",
   "source": [
    "# from imblearn.over_sampling import SMOTE\n",
    "#\n",
    "#\n",
    "# def run_binary_classification(df, class_a, class_b):\n",
    "#     print(f\"=== classification: {class_a} vs {class_b} ===\")\n",
    "#\n",
    "#     binary_df = df[df['treatment_type'].isin([class_a, class_b])].copy()\n",
    "#     X = binary_df.drop(columns=['treatment_type'])\n",
    "#     y = binary_df['treatment_type']\n",
    "#\n",
    "#     categorical_features = [\n",
    "#         'Gender (Female=1, Male=2)', 'has_ace_inhibitors', 'has_angioprotectors', 'has_antianginal',\n",
    "#         'has_antiarrhythmic', 'has_antibiotics', 'has_antihypertensives', 'has_antithrombotic', 'has_arb',\n",
    "#         'has_calcium_channel_blockers', 'has_circulatory_support', 'has_gastroprotective', 'has_gout_treatment',\n",
    "#         'has_hepatoprotector', 'has_hypolipidemic', 'has_immunomodulators', 'has_kidney_support', 'has_laxatives',\n",
    "#         'has_minerals_and_vitamins', 'has_neuroprotectors', 'has_pancreatic', 'has_probiotics', 'has_psychotropic',\n",
    "#         'has_thyroid_diseases', 'has_urological_drugs', 'has_vasodilators', 'has_vestibular_disorders',\n",
    "#         'has_autoimmune_diseases', 'has_cardiovascular_diseases', 'has_dental_diseases',\n",
    "#         'has_diseases_of_the_musculoskeletal_system', 'has_diseases_of_the_stomach_and_intestines',\n",
    "#         'has_electrolyte_and_mineral_disorders', 'has_endocrine_diseases', 'has_eye_diseases',\n",
    "#         'has_gallbladder_diseases', 'has_gynecological_diseases', 'has_hematologic_disorders',\n",
    "#         'has_infectious_diseases', 'has_kidney_diseases', 'has_liver_diseases', 'has_male_reproductive_diseases',\n",
    "#         'has_neurological_and_psychiatric_diseases', 'has_oncology', 'has_diabetic_microvascular_complications',\n",
    "#         'has_diabetic_macrovascular__complications', 'has_acute_diabetic_complications', 'has_hypoglycemia',\n",
    "#         'Alcohol Drinking History (drinker/non-drinker)', 'Type of Diabetes'\n",
    "#     ]\n",
    "#     numerical_features = [col for col in X.columns if col not in categorical_features]\n",
    "#\n",
    "#     X_train, X_test, y_train, y_test = train_test_split(\n",
    "#         X, y, stratify=y, test_size=0.2, random_state=42\n",
    "#     )\n",
    "#\n",
    "#     preprocessor = ColumnTransformer([\n",
    "#         ('num', StandardScaler(), numerical_features),\n",
    "#         ('cat', 'passthrough', categorical_features)\n",
    "#     ])\n",
    "#\n",
    "#     over = SMOTE(sampling_strategy='auto', random_state=42)\n",
    "#\n",
    "#     pipeline = ImbPipeline(steps=[\n",
    "#         ('preprocessor', preprocessor),\n",
    "#         ('over', over),\n",
    "#         ('classifier', RandomForestClassifier(random_state=42))\n",
    "#     ])\n",
    "#\n",
    "#     param_grid = {\n",
    "#         'classifier__n_estimators': [200],\n",
    "#         'classifier__max_depth': [10, 20],\n",
    "#         'classifier__min_samples_split': [2, 5],\n",
    "#         'classifier__min_samples_leaf': [1, 2],\n",
    "#     }\n",
    "#\n",
    "#     cv = StratifiedKFold(n_splits=5, shuffle=True, random_state=42)\n",
    "#\n",
    "#     grid = GridSearchCV(pipeline, param_grid=param_grid, cv=cv, n_jobs=-1)\n",
    "#     grid.fit(X_train, y_train)\n",
    "#\n",
    "#     print(\"best params:\", grid.best_params_)\n",
    "#     y_pred = grid.predict(X_test)\n",
    "#     print(\"accuracy:\", round(accuracy_score(y_test, y_pred), 4))\n",
    "#     print(classification_report(y_test, y_pred))\n",
    "#\n",
    "#\n",
    "# pairs = [\n",
    "#     ('insulin_treatment', 'drug_treatment'),\n",
    "#     ('insulin_treatment', 'mixed_treatment'),\n",
    "#     ('mixed_treatment', 'drug_treatment')\n",
    "# ]\n",
    "#\n",
    "#\n",
    "# df_path = Path('../research/result2.csv')\n",
    "# dfTest = pd.read_csv(df_path)\n",
    "#\n",
    "# for a, b in pairs:\n",
    "#     run_binary_classification(dfTest, a, b)"
   ],
   "id": "80eee4ab46eed523",
   "outputs": [],
   "execution_count": null
  },
  {
   "metadata": {},
   "cell_type": "code",
   "source": [
    "from imblearn.over_sampling import SMOTE\n",
    "\n",
    "df_path = Path('../research/result2.csv')\n",
    "dfTest = pd.read_csv(df_path)\n",
    "\n",
    "X = dfTest.drop('treatment_type', axis=1)\n",
    "y = dfTest['treatment_type']\n",
    "\n",
    "X_train, X_test, y_train, y_test = train_test_split(\n",
    "    X, y, test_size=0.2, stratify=y, random_state=42\n",
    ")\n",
    "\n",
    "over = SMOTE(sampling_strategy='auto', random_state=42)\n",
    "# over = SMOTE(sampling_strategy={'insulin_treatment': 26}, random_state=42)\n",
    "\n",
    "\n",
    "categorical_features = [\n",
    "    'Gender (Female=1, Male=2)', 'has_ace_inhibitors', 'has_angioprotectors', 'has_antianginal',\n",
    "    'has_antiarrhythmic', 'has_antibiotics', 'has_antihypertensives', 'has_antithrombotic', 'has_arb',\n",
    "    'has_calcium_channel_blockers', 'has_circulatory_support', 'has_gastroprotective', 'has_gout_treatment',\n",
    "    'has_hepatoprotector', 'has_hypolipidemic', 'has_immunomodulators', 'has_kidney_support', 'has_laxatives',\n",
    "    'has_minerals_and_vitamins', 'has_neuroprotectors', 'has_pancreatic', 'has_probiotics', 'has_psychotropic',\n",
    "    'has_thyroid_diseases', 'has_urological_drugs', 'has_vasodilators', 'has_vestibular_disorders',\n",
    "    'has_autoimmune_diseases', 'has_cardiovascular_diseases', 'has_dental_diseases',\n",
    "    'has_diseases_of_the_musculoskeletal_system', 'has_diseases_of_the_stomach_and_intestines',\n",
    "    'has_electrolyte_and_mineral_disorders', 'has_endocrine_diseases', 'has_eye_diseases',\n",
    "    'has_gallbladder_diseases', 'has_gynecological_diseases', 'has_hematologic_disorders',\n",
    "    'has_infectious_diseases', 'has_kidney_diseases', 'has_liver_diseases', 'has_male_reproductive_diseases',\n",
    "    'has_neurological_and_psychiatric_diseases', 'has_oncology', 'has_diabetic_microvascular_complications',\n",
    "    'has_diabetic_macrovascular__complications', 'has_acute_diabetic_complications', 'has_hypoglycemia',\n",
    "    'Alcohol Drinking History (drinker/non-drinker)', 'Type of Diabetes'\n",
    "]\n",
    "numerical_features = [col for col in X.columns if col not in categorical_features]\n",
    "# cat_idx = [X.columns.get_loc(col) for col in categorical_features]\n",
    "\n",
    "# over = SMOTE(categorical_features=cat_idx, sampling_strategy={'insulin_treatment': 26}, random_state=42)\n",
    "preprocessor = ColumnTransformer([\n",
    "    ('num', StandardScaler(), numerical_features),\n",
    "    ('cat', 'passthrough', categorical_features)\n",
    "])\n",
    "# ova_classifier = OneVsOneClassifier(RandomForestClassifier(random_state=42))\n",
    "\n",
    "pipeline = ImbPipeline(steps=[\n",
    "    ('preprocessor', preprocessor),\n",
    "    ('over', over),\n",
    "    # ('classifier', ova_classifier),\n",
    "    ('classifier', RandomForestClassifier(random_state=42)),\n",
    "])\n",
    "param_grid = {\n",
    "    'classifier__n_estimators': [200, 300],\n",
    "    'classifier__max_depth': [10, 20],\n",
    "    'classifier__min_samples_split': [2, 5, 10],\n",
    "    'classifier__min_samples_leaf': [1, 2, 4],\n",
    "}\n",
    "# param_grid = {\n",
    "#     'classifier__estimator__n_estimators': [200, 300],\n",
    "#     'classifier__estimator__max_depth': [10, 20],\n",
    "#     'classifier__estimator__min_samples_split': [2, 5, 10],\n",
    "#     'classifier__estimator__min_samples_leaf': [1, 2, 4],\n",
    "# }\n",
    "\n",
    "cv = StratifiedKFold(n_splits=5, shuffle=True, random_state=42)\n",
    "\n",
    "grid_search = GridSearchCV(\n",
    "    estimator=pipeline,\n",
    "    param_grid=param_grid,\n",
    "    cv=cv,\n",
    "    n_jobs=-1\n",
    ")\n",
    "\n",
    "grid_search.fit(X_train, y_train)\n",
    "\n",
    "print(\"Best parameters:\", grid_search.best_params_)\n",
    "\n",
    "y_pred = grid_search.predict(X_test)\n",
    "\n",
    "print(\"Accuracy:\", round(accuracy_score(y_test, y_pred), 4))\n",
    "print(classification_report(y_test, y_pred))"
   ],
   "id": "3b5e5600851f91eb",
   "outputs": [],
   "execution_count": null
  },
  {
   "metadata": {},
   "cell_type": "code",
   "source": "print(y.value_counts(normalize=True))",
   "id": "726d0da4f8b35661",
   "outputs": [],
   "execution_count": null
  },
  {
   "metadata": {},
   "cell_type": "code",
   "source": "y_train.value_counts()",
   "id": "68a719fbc395cb7b",
   "outputs": [],
   "execution_count": null
  },
  {
   "metadata": {},
   "cell_type": "code",
   "source": [
    "from sklearn.metrics import ConfusionMatrixDisplay\n",
    "\n",
    "ConfusionMatrixDisplay.from_estimator(grid_search, X_test, y_test, cmap='Blues')"
   ],
   "id": "28af02be9d26450d",
   "outputs": [],
   "execution_count": null
  },
  {
   "metadata": {},
   "cell_type": "code",
   "source": "print(\"Train accuracy:\", accuracy_score(y_train, grid_search.predict(X_train)))",
   "id": "3f931d76b6be75bd",
   "outputs": [],
   "execution_count": null
  },
  {
   "metadata": {},
   "cell_type": "code",
   "source": [
    "print(y_train.value_counts())\n",
    "print(y_test.value_counts())"
   ],
   "id": "62f70054c5e04595",
   "outputs": [],
   "execution_count": null
  },
  {
   "metadata": {},
   "cell_type": "code",
   "source": [
    "sns.countplot(data=df, x='treatment_type')\n",
    "plt.title('New diabetes distribution')\n",
    "plt.show()"
   ],
   "id": "a9a61a4fc5c15ba9",
   "outputs": [],
   "execution_count": null
  },
  {
   "metadata": {},
   "cell_type": "code",
   "source": [
    "clf = Pipeline(steps=[\n",
    "    ('preprocessor', preprocessor),\n",
    "    ('classifier', RandomForestClassifier(random_state=42))\n",
    "])\n",
    "\n",
    "param_grid = {\n",
    "    'classifier__n_estimators': [50],\n",
    "    'classifier__max_depth': [20],\n",
    "    'classifier__min_samples_split': [2],\n",
    "    'classifier__min_samples_leaf': [2]\n",
    "}\n",
    "\n",
    "skf = StratifiedKFold(n_splits=10, shuffle=True, random_state=42)\n"
   ],
   "id": "17276313c14a96cf",
   "outputs": [],
   "execution_count": null
  },
  {
   "metadata": {},
   "cell_type": "code",
   "source": [
    "grid_search = GridSearchCV(\n",
    "    estimator=clf,\n",
    "    param_grid=param_grid,\n",
    "    cv=skf,\n",
    "    n_jobs=-1\n",
    ")\n",
    "\n",
    "X_train, X_test, y_train, y_test = train_test_split(\n",
    "    X, y, test_size=0.2, random_state=42\n",
    ")\n",
    "\n",
    "grid_search.fit(X_train, y_train)\n",
    "print(\"Best parameters:\", grid_search.best_params_)"
   ],
   "id": "66e181592ed453d8",
   "outputs": [],
   "execution_count": null
  },
  {
   "metadata": {},
   "cell_type": "code",
   "source": [
    "y_pred = grid_search.predict(X_test)\n",
    "\n",
    "print(\"Accuracy on test:\", round(accuracy_score(y_test, y_pred), 4))\n",
    "print(classification_report(y_test, y_pred))"
   ],
   "id": "c87102a4deeab033",
   "outputs": [],
   "execution_count": null
  },
  {
   "metadata": {},
   "cell_type": "code",
   "source": [
    "y_pred = grid_search.predict(X_test)\n",
    "\n",
    "print('model accuracy: ', accuracy_score(y_test, y_pred))\n",
    "print(classification_report(y_test, y_pred))"
   ],
   "id": "bab8c38e3da0f43",
   "outputs": [],
   "execution_count": null
  },
  {
   "metadata": {},
   "cell_type": "code",
   "source": [
    "cm = confusion_matrix(y_test, y_pred)\n",
    "plt.figure(figsize=(10, 8))\n",
    "sns.heatmap(cm, annot=True, fmt='d', cmap='Blues')\n",
    "plt.title('Confusion Matrix')\n",
    "plt.xlabel('Predicted')\n",
    "plt.ylabel('True')\n",
    "plt.show()"
   ],
   "id": "a6eb6479def11f5f",
   "outputs": [],
   "execution_count": null
  },
  {
   "metadata": {},
   "cell_type": "code",
   "source": "print(sorted(y.unique()))",
   "id": "f96279693f90896",
   "outputs": [],
   "execution_count": null
  },
  {
   "metadata": {},
   "cell_type": "markdown",
   "source": "### DTC",
   "id": "bcb7bd66219db9a6"
  },
  {
   "metadata": {},
   "cell_type": "code",
   "source": [
    "clf = Pipeline(steps=[\n",
    "    ('preprocessor', preprocessor),\n",
    "    ('classifier', DecisionTreeClassifier())\n",
    "])"
   ],
   "id": "30959d49b1b696ab",
   "outputs": [],
   "execution_count": null
  },
  {
   "metadata": {},
   "cell_type": "code",
   "source": [
    "param_grid = {\n",
    "    'classifier__min_samples_split': [2, 5, 10],\n",
    "    'classifier__min_samples_leaf': [1, 2, 4],\n",
    "    'classifier__max_depth': [10, 20, 30],\n",
    "    'classifier__criterion': ['gini', 'entropy'],\n",
    "    'classifier__max_features': ['sqrt', 'log2'],\n",
    "    'classifier__max_leaf_nodes': [10, 20, 50],\n",
    "}"
   ],
   "id": "51607263cadf4e33",
   "outputs": [],
   "execution_count": null
  },
  {
   "metadata": {},
   "cell_type": "code",
   "source": [
    "grid_search = GridSearchCV(clf, param_grid, cv=5)\n",
    "X_train, X_test, y_train, y_test = train_test_split(X, y, test_size=0.2, random_state=42)\n",
    "\n",
    "grid_search.fit(X_train, y_train)\n",
    "print('best parameters', grid_search.best_params_)"
   ],
   "id": "c2698c1147e8439d",
   "outputs": [],
   "execution_count": null
  },
  {
   "metadata": {},
   "cell_type": "code",
   "source": [
    "y_pred = grid_search.predict(X_test)\n",
    "print('model accuracy', accuracy_score(y_test, y_pred))\n",
    "print(classification_report(y_test, y_pred))"
   ],
   "id": "5adf32ddbc31c193",
   "outputs": [],
   "execution_count": null
  },
  {
   "metadata": {},
   "cell_type": "code",
   "source": [
    "grid_search = GridSearchCV(clf, param_grid, cv=5)\n",
    "X_train, X_test, y_train, y_test = train_test_split(X, y, test_size=0.2, random_state=42)\n",
    "\n",
    "grid_search.fit(X_train, y_train)\n",
    "print('best parameters', grid_search.best_params_)\n",
    "y_pred = grid_search.predict(X_test)\n",
    "print('model accuracy', accuracy_score(y_test, y_pred))\n",
    "print(classification_report(y_test, y_pred))"
   ],
   "id": "3936826622387196",
   "outputs": [],
   "execution_count": null
  },
  {
   "metadata": {},
   "cell_type": "code",
   "source": [
    "cm = confusion_matrix(y_test, y_pred)\n",
    "plt.figure(figsize=(8, 6))\n",
    "sns.heatmap(cm, annot=True, fmt='d', cmap='Blues')\n",
    "plt.title('confusion matrix')\n",
    "plt.xlabel('predicted')\n",
    "plt.ylabel('true')\n",
    "plt.show()"
   ],
   "id": "d9ec9969d94e3a27",
   "outputs": [],
   "execution_count": null
  },
  {
   "metadata": {},
   "cell_type": "markdown",
   "source": "## KNN",
   "id": "6a82c246fa433414"
  },
  {
   "metadata": {},
   "cell_type": "code",
   "source": [
    "clf = Pipeline(\n",
    "    steps=[\n",
    "        ('preprocessor', preprocessor),\n",
    "        ('classifier', KNeighborsClassifier())\n",
    "    ]\n",
    ")"
   ],
   "id": "5c9d58ad2240584a",
   "outputs": [],
   "execution_count": null
  },
  {
   "metadata": {},
   "cell_type": "code",
   "source": [
    "param_grid = {\n",
    "    'classifier__n_neighbors': [3, 5, 7, 9],\n",
    "    'classifier__metric': ['euclidean', 'manhattan', 'minkowski'],\n",
    "    'classifier__p': [1, 2],\n",
    "    'classifier__weights': ['uniform', 'distance'],\n",
    "}"
   ],
   "id": "dc426591ff077f25",
   "outputs": [],
   "execution_count": null
  },
  {
   "metadata": {},
   "cell_type": "code",
   "source": [
    "grid_search = GridSearchCV(clf, param_grid, cv=5)\n",
    "X_train, X_test, y_train, y_test = train_test_split(X, y, test_size=0.2, random_state=42)\n",
    "\n",
    "grid_search.fit(X_train, y_train)\n",
    "print('best parameters', grid_search.best_params_)"
   ],
   "id": "2728df2135e6efe1",
   "outputs": [],
   "execution_count": null
  },
  {
   "metadata": {},
   "cell_type": "code",
   "source": [
    "y_pred = grid_search.predict(X_test)\n",
    "\n",
    "print('model accuracy', accuracy_score(y_test, y_pred))\n",
    "print(classification_report(y_test, y_pred))"
   ],
   "id": "61fb0c1e65791849",
   "outputs": [],
   "execution_count": null
  },
  {
   "metadata": {},
   "cell_type": "code",
   "source": [
    "cm = confusion_matrix(y_test, y_pred)\n",
    "plt.figure(figsize=(8, 6))\n",
    "sns.heatmap(cm, annot=True, fmt='d', cmap='Blues')\n",
    "plt.title('Confusion Matrix')\n",
    "plt.xlabel('Predicted')\n",
    "plt.ylabel('True')\n",
    "plt.show()"
   ],
   "id": "2b7a21787aad26fe",
   "outputs": [],
   "execution_count": null
  },
  {
   "metadata": {},
   "cell_type": "markdown",
   "source": "## LR",
   "id": "b45acb1f360ad180"
  },
  {
   "metadata": {},
   "cell_type": "code",
   "source": [
    "clf = Pipeline(\n",
    "    steps=[\n",
    "        ('preprocessor', preprocessor),\n",
    "        ('classifier', LogisticRegression())\n",
    "    ]\n",
    ")"
   ],
   "id": "682cab852c028d7",
   "outputs": [],
   "execution_count": null
  },
  {
   "metadata": {},
   "cell_type": "code",
   "source": [
    "param_grid = {\n",
    "    'classifier__C': [0.01, 0.1, 1, 10, 100],\n",
    "    'classifier__solver': ['liblinear', 'saga'],\n",
    "    'classifier__penalty': ['l1', 'l2'],\n",
    "    'classifier__max_iter': [300, 500, 1000]\n",
    "}"
   ],
   "id": "98fb449da587fe23",
   "outputs": [],
   "execution_count": null
  },
  {
   "metadata": {},
   "cell_type": "code",
   "source": [
    "grid_search = GridSearchCV(clf, param_grid, cv=5)\n",
    "\n",
    "X_train, X_test, y_train, y_test = train_test_split(X, y, test_size=0.2, random_state=42)\n",
    "\n",
    "grid_search.fit(X_train, y_train)\n",
    "\n",
    "print('best parameters', grid_search.best_params_)"
   ],
   "id": "d9b3bace6b56aead",
   "outputs": [],
   "execution_count": null
  },
  {
   "metadata": {},
   "cell_type": "code",
   "source": [
    "y_pred = grid_search.predict(X_test)\n",
    "\n",
    "print('model accuracy', accuracy_score(y_test, y_pred))\n",
    "print(classification_report(y_test, y_pred))\n"
   ],
   "id": "7cd93a128b4772e7",
   "outputs": [],
   "execution_count": null
  },
  {
   "metadata": {},
   "cell_type": "code",
   "source": [
    "cm = confusion_matrix(y_test, y_pred)\n",
    "plt.figure(figsize=(8, 6))\n",
    "sns.heatmap(cm, annot=True, fmt='d', cmap='Blues')\n",
    "plt.title('Confusion Matrix')\n",
    "plt.xlabel('Predicted')\n",
    "plt.ylabel('True')\n",
    "plt.show()"
   ],
   "id": "e219779730825a03",
   "outputs": [],
   "execution_count": null
  },
  {
   "metadata": {},
   "cell_type": "markdown",
   "source": "## XGBoost",
   "id": "2e11736095917388"
  },
  {
   "metadata": {},
   "cell_type": "code",
   "source": [
    "clf = Pipeline(\n",
    "    steps=[\n",
    "        ('preprocessor', preprocessor),\n",
    "        ('classifier', xgb.XGBClassifier(random_state=42))\n",
    "    ]\n",
    ")"
   ],
   "id": "9aa2d550d6f11970",
   "outputs": [],
   "execution_count": null
  },
  {
   "metadata": {},
   "cell_type": "code",
   "source": [
    "param_grid = {\n",
    "    'classifier__max_depth': [3, 5, 7],\n",
    "    'classifier__learning_rate': [0.01, 0.1, 0.2],\n",
    "    'classifier__n_estimators': [100, 200],\n",
    "    'classifier__subsample': [0.8, 1.0],\n",
    "}"
   ],
   "id": "538df019680f3c63",
   "outputs": [],
   "execution_count": null
  },
  {
   "metadata": {},
   "cell_type": "code",
   "source": [
    "le = LabelEncoder()\n",
    "y_encoded = le.fit_transform(y)\n",
    "\n",
    "X_train, X_test, y_train, y_test = train_test_split(X, y_encoded, test_size=0.2, random_state=42)\n",
    "\n",
    "grid_search = GridSearchCV(clf, param_grid, cv=5)\n",
    "\n",
    "grid_search.fit(X_train, y_train)\n",
    "print('best parameters', grid_search.best_params_)"
   ],
   "id": "979698182a3a18bd",
   "outputs": [],
   "execution_count": null
  },
  {
   "metadata": {},
   "cell_type": "code",
   "source": [
    "y_pred = grid_search.predict(X_test)\n",
    "\n",
    "print('model accuracy', accuracy_score(y_test, y_pred))\n",
    "print(classification_report(y_test, y_pred))"
   ],
   "id": "5e651f839194c2e6",
   "outputs": [],
   "execution_count": null
  },
  {
   "metadata": {},
   "cell_type": "code",
   "source": [
    "cm = confusion_matrix(y_test, y_pred)\n",
    "plt.figure(figsize=(10, 8))\n",
    "sns.heatmap(cm, annot=True, fmt='d', cmap='Blues')\n",
    "plt.title('Confusion Matrix')\n",
    "plt.xlabel('Predicted')\n",
    "plt.ylabel('True')\n",
    "plt.show()"
   ],
   "id": "6cc75f116b7706c6",
   "outputs": [],
   "execution_count": null
  },
  {
   "metadata": {},
   "cell_type": "markdown",
   "source": "## Lightgbm",
   "id": "8b4a1ff77e6aafd2"
  },
  {
   "metadata": {},
   "cell_type": "code",
   "source": [
    "clf = Pipeline(\n",
    "    steps=[\n",
    "        ('preprocessor', preprocessor),\n",
    "        ('classifier', LGBMClassifier(verbose=-1))\n",
    "    ]\n",
    ")"
   ],
   "id": "50e08923a4e79287",
   "outputs": [],
   "execution_count": null
  },
  {
   "metadata": {},
   "cell_type": "code",
   "source": [
    "param_grid = {\n",
    "    'classifier__n_estimators': [100, 200],\n",
    "    'classifier__max_depth': [5, 7],\n",
    "    'classifier__learning_rate': [0.01, 0.1],\n",
    "    'classifier__num_leaves': [15, 31],\n",
    "    'classifier__min_child_samples': [10, 20, 30],\n",
    "}"
   ],
   "id": "3547e3ebbdeca674",
   "outputs": [],
   "execution_count": null
  },
  {
   "metadata": {},
   "cell_type": "code",
   "source": [
    "grid_search = GridSearchCV(clf, param_grid, cv=5)\n",
    "X_train, X_test, y_train, y_test = train_test_split(X, y, test_size=0.2, random_state=42)\n",
    "\n",
    "grid_search.fit(X_train, y_train)\n",
    "print('best parameters', grid_search.best_params_)"
   ],
   "id": "d5a4dbabec9ef459",
   "outputs": [],
   "execution_count": null
  },
  {
   "metadata": {},
   "cell_type": "code",
   "source": [
    "y_pred = grid_search.predict(X_test)\n",
    "\n",
    "print('model accuracy: ', accuracy_score(y_test, y_pred))\n",
    "print(classification_report(y_test, y_pred))"
   ],
   "id": "faadcf666a93be30",
   "outputs": [],
   "execution_count": null
  },
  {
   "metadata": {},
   "cell_type": "code",
   "source": [
    "cm = confusion_matrix(y_test, y_pred)\n",
    "plt.figure(figsize=(10, 8))\n",
    "sns.heatmap(cm, annot=True, fmt='d', cmap='Blues')\n",
    "plt.title('Confusion Matrix')\n",
    "plt.xlabel('Predicted')\n",
    "plt.ylabel('True')\n",
    "plt.show()"
   ],
   "id": "e5f27f31ebd7bb92",
   "outputs": [],
   "execution_count": null
  }
 ],
 "metadata": {
  "kernelspec": {
   "display_name": "Python 3",
   "language": "python",
   "name": "python3"
  },
  "language_info": {
   "codemirror_mode": {
    "name": "ipython",
    "version": 2
   },
   "file_extension": ".py",
   "mimetype": "text/x-python",
   "name": "python",
   "nbconvert_exporter": "python",
   "pygments_lexer": "ipython2",
   "version": "2.7.6"
  }
 },
 "nbformat": 4,
 "nbformat_minor": 5
}
