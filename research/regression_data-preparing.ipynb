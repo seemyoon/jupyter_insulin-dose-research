{
 "cells": [
  {
   "cell_type": "code",
   "id": "initial_id",
   "metadata": {
    "collapsed": true,
    "ExecuteTime": {
     "end_time": "2025-04-19T19:20:51.777228Z",
     "start_time": "2025-04-19T19:20:51.669675Z"
    }
   },
   "source": [
    "import pandas as pd\n",
    "import os\n",
    "from pathlib import Path\n",
    "from sklearn.tree import DecisionTreeRegressor\n",
    "from sklearn.model_selection import train_test_split\n",
    "from sklearn.preprocessing import StandardScaler\n",
    "from sklearn.metrics import mean_absolute_error, mean_squared_error, r2_score"
   ],
   "outputs": [],
   "execution_count": 25
  },
  {
   "metadata": {},
   "cell_type": "markdown",
   "source": "# Data preparing",
   "id": "39eae9ef3e2a4601"
  },
  {
   "metadata": {
    "ExecuteTime": {
     "end_time": "2025-04-19T20:39:53.962533Z",
     "start_time": "2025-04-19T20:39:51.409132Z"
    }
   },
   "cell_type": "code",
   "source": [
    "folder_path = Path('../data/HUPA-UCM-data')\n",
    "patients_info_path = Path('../data/HUPA-data_patients/patients_info.csv')\n",
    "\n",
    "# Check folder and file existence\n",
    "if not os.path.exists(folder_path):\n",
    "    raise FileNotFoundError(f\"Directory {folder_path} does not exist.\")\n",
    "if not os.path.exists(patients_info_path):\n",
    "    raise FileNotFoundError(f\"File {patients_info_path} does not exist.\")\n",
    "\n",
    "# Load patients info and check duplicates\n",
    "patients_info = pd.read_csv(patients_info_path)\n",
    "if patients_info['person_id'].duplicated().any():\n",
    "    raise ValueError(\"Duplicate person_id found in patients_info.csv!\")\n",
    "print(\"Unique person_ids in patients_info:\", patients_info['person_id'].nunique())\n",
    "\n",
    "# Load time series HUPA-UCM-data\n",
    "all_files = [folder_path / f for f in os.listdir(folder_path) if f.endswith('.csv')]\n",
    "data_list = []\n",
    "for file in all_files:\n",
    "    temp_data = pd.read_csv(file, delimiter=';')\n",
    "    temp_data['person_id'] = file.stem\n",
    "    data_list.append(temp_data)\n",
    "\n",
    "# Combine and preprocess HUPA-UCM-data\n",
    "data = pd.concat(data_list, ignore_index=True).drop_duplicates()\n",
    "\n",
    "# Convert time and handle errors\n",
    "data['time'] = pd.to_datetime(data['time'], errors='coerce')\n",
    "data['minute_treat'] = data['time'].dt.minute\n",
    "data['hour_of_day_treat'] = data['time'].dt.hour\n",
    "data['month_treat'] = data['time'].dt.month\n",
    "data['year_treat'] = data['time'].dt.year\n",
    "data['day_treat'] = data['time'].dt.day.clip(1, data['time'].dt.days_in_month)\n",
    "data = data.drop(['time'], axis=1)\n",
    "\n",
    "# Fill missing values safely\n",
    "for col in ['glucose', 'calories', 'heart_rate']:\n",
    "    if data[col].isna().all():\n",
    "        data[col] = 0\n",
    "    else:\n",
    "        data[col] = data[col].fillna(data[col].mean())\n",
    "data = data.fillna(0)\n",
    "\n",
    "# Merge with patients_info\n",
    "data = data.merge(patients_info, on='person_id', how='left')\n",
    "# Convert to bmi\n",
    "data['bmi'] = data['weight'] / pow(data['height'], 2)\n",
    "data = data.drop(['weight'], axis=1)\n",
    "data = data.drop(['height'], axis=1)\n",
    "\n",
    "# Anomaly checks\n",
    "# Heart rate check\n",
    "data = data[(data['heart_rate'] > 40) & (data['heart_rate'] < 200)]\n",
    "# Glucose range check\n",
    "data = data[(data['glucose'] >= 0) & (data['glucose'] <= 500)]\n",
    "# Minute range check\n",
    "data = data[(data['minute_treat'] >= 0) & (data['minute_treat'] <= 59)]\n",
    "# Hour of day range check\n",
    "data = data[(data['hour_of_day_treat'] >= 0) & (data['hour_of_day_treat'] <= 23)]\n",
    "# Month range check\n",
    "data = data[(data['month_treat'] >= 1) & (data['month_treat'] <= 12)]\n",
    "# Age range check\n",
    "data = data[(data['age'] >= 0) & (data['age'] <= 120)]\n",
    "# BMI range check\n",
    "data = data[(data['bmi'] >= 15) & (data['bmi'] <= 40)]\n",
    "\n",
    "# Check target variable\n",
    "if data['basal_rate'].isna().any():\n",
    "    raise ValueError(\"Target variable 'basal_rate' contains missing values!\")\n",
    "\n",
    "# One-Hot Encoding\n",
    "data = pd.get_dummies(data, columns=['gender', 'treatment'], drop_first=True)\n",
    "\n",
    "# Define features\n",
    "features = [\n",
    "    'glucose',\n",
    "    'calories',\n",
    "    'heart_rate',\n",
    "    'steps',\n",
    "    'bolus_volume_delivered',\n",
    "    'carb_input',\n",
    "    'HbA1c',\n",
    "    'age',\n",
    "    'dx_time',\n",
    "    'bmi',\n",
    "    'minute_treat',\n",
    "    'hour_of_day_treat',\n",
    "    'month_treat',\n",
    "    'day_treat',\n",
    "]\n",
    "features += [col for col in data.columns if col.startswith(('gender_', 'treatment_'))]\n",
    "\n",
    "data.to_csv('final_prepared_data.csv')\n",
    "X = data[features]\n",
    "y = data['basal_rate']"
   ],
   "id": "5fbd6a272e7a7a9b",
   "outputs": [
    {
     "name": "stdout",
     "output_type": "stream",
     "text": [
      "Unique person_ids in patients_info: 25\n"
     ]
    }
   ],
   "execution_count": 29
  },
  {
   "metadata": {},
   "cell_type": "markdown",
   "source": "# test model",
   "id": "ee0a4957e9a61f84"
  },
  {
   "metadata": {
    "ExecuteTime": {
     "end_time": "2025-04-19T19:23:16.122818Z",
     "start_time": "2025-04-19T19:23:14.778044Z"
    }
   },
   "cell_type": "code",
   "source": [
    "X_train, X_test, y_train, y_test = train_test_split(X, y, test_size=0.2, random_state=42)\n",
    "\n",
    "scaler = StandardScaler()\n",
    "X_train_scaled = scaler.fit_transform(X_train)\n",
    "X_test_scaled = scaler.fit_transform(X_test)\n",
    "\n",
    "model = DecisionTreeRegressor(max_depth=22, min_samples_leaf=2, min_samples_split=2, random_state=42)\n",
    "\n",
    "model.fit(X_train_scaled, y_train)\n",
    "y_pred = model.predict(X_test_scaled)\n",
    "\n",
    "mse = round(mean_squared_error(y_test, y_pred), 6)\n",
    "r2 = round(r2_score(y_test, y_pred), 6)\n",
    "mae = round(mean_absolute_error(y_test, y_pred), 6)\n",
    "\n",
    "print(f'Mean Squared Error: {mse}')\n",
    "print(f'R²: {r2}')\n",
    "print(f'Mean Absolute Error: {mae}')"
   ],
   "id": "9553e6f188a11dee",
   "outputs": [
    {
     "name": "stdout",
     "output_type": "stream",
     "text": [
      "Mean Squared Error: 0.000168\n",
      "R²: 0.870357\n",
      "Mean Absolute Error: 0.003919\n"
     ]
    }
   ],
   "execution_count": 28
  }
 ],
 "metadata": {
  "kernelspec": {
   "display_name": "Python 3",
   "language": "python",
   "name": "python3"
  },
  "language_info": {
   "codemirror_mode": {
    "name": "ipython",
    "version": 2
   },
   "file_extension": ".py",
   "mimetype": "text/x-python",
   "name": "python",
   "nbconvert_exporter": "python",
   "pygments_lexer": "ipython2",
   "version": "2.7.6"
  }
 },
 "nbformat": 4,
 "nbformat_minor": 5
}
